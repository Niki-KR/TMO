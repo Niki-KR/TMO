{
  "nbformat": 4,
  "nbformat_minor": 0,
  "metadata": {
    "colab": {
      "name": "РК1.ipynb",
      "provenance": [],
      "toc_visible": true,
      "mount_file_id": "1hyMYnHNFrIrazth6sLA-PHyUd_-rEmXQ",
      "authorship_tag": "ABX9TyO5Ip3lIdALHLs5n/bvo+dX",
      "include_colab_link": true
    },
    "kernelspec": {
      "name": "python3",
      "display_name": "Python 3"
    }
  },
  "cells": [
    {
      "cell_type": "markdown",
      "metadata": {
        "id": "view-in-github",
        "colab_type": "text"
      },
      "source": [
        "<a href=\"https://colab.research.google.com/github/Niki-KR/TMO/blob/master/notebooks/%D0%A0%D0%9A1.ipynb\" target=\"_parent\"><img src=\"https://colab.research.google.com/assets/colab-badge.svg\" alt=\"Open In Colab\"/></a>"
      ]
    },
    {
      "cell_type": "markdown",
      "metadata": {
        "id": "9ZKKXGTpcbGs",
        "colab_type": "text"
      },
      "source": [
        "#РК №1, ИУ5-63Б, Кривцов Н.А., Вариант 10\n",
        "\n",
        "---\n",
        "\n",
        "Для заданного набора данных проведите обработку пропусков в данных для одного категориального и одного количественного признака. Какие способы обработки пропусков в данных для категориальных и количественных признаков Вы использовали? Какие признаки Вы будете использовать для дальнейшего построения моделей машинного обучения и почему?\n",
        "Для произвольной колонки данных постройте график \"Ящик с усами (boxplot)\".\n",
        "\n"
      ]
    },
    {
      "cell_type": "markdown",
      "metadata": {
        "id": "AZRr4l1QetMX",
        "colab_type": "text"
      },
      "source": [
        "# Разведочный анализ данных"
      ]
    },
    {
      "cell_type": "code",
      "metadata": {
        "id": "qEOsgN2pcNgI",
        "colab_type": "code",
        "outputId": "86746aed-af7e-44ff-caf7-1ab7eb975f8f",
        "colab": {
          "base_uri": "https://localhost:8080/",
          "height": 70
        }
      },
      "source": [
        "import pandas as pd\n",
        "import numpy as np\n",
        "import matplotlib.pyplot as plt\n",
        "import seaborn as sns"
      ],
      "execution_count": 0,
      "outputs": [
        {
          "output_type": "stream",
          "text": [
            "/usr/local/lib/python3.6/dist-packages/statsmodels/tools/_testing.py:19: FutureWarning: pandas.util.testing is deprecated. Use the functions in the public API at pandas.testing instead.\n",
            "  import pandas.util.testing as tm\n"
          ],
          "name": "stderr"
        }
      ]
    },
    {
      "cell_type": "code",
      "metadata": {
        "id": "9O-xdsZMdK-_",
        "colab_type": "code",
        "colab": {}
      },
      "source": [
        "df = pd.read_csv(\"drive/My Drive/Colab Notebooks/dc-wikia-data.csv\")"
      ],
      "execution_count": 0,
      "outputs": []
    },
    {
      "cell_type": "code",
      "metadata": {
        "id": "lk-MCagYfi0b",
        "colab_type": "code",
        "outputId": "e92fa2c7-ed02-428e-a7d8-45c03342789f",
        "colab": {
          "base_uri": "https://localhost:8080/",
          "height": 252
        }
      },
      "source": [
        "# Типы признаков\n",
        "df.dtypes"
      ],
      "execution_count": 0,
      "outputs": [
        {
          "output_type": "execute_result",
          "data": {
            "text/plain": [
              "page_id               int64\n",
              "name                 object\n",
              "urlslug              object\n",
              "ID                   object\n",
              "ALIGN                object\n",
              "EYE                  object\n",
              "HAIR                 object\n",
              "SEX                  object\n",
              "GSM                  object\n",
              "ALIVE                object\n",
              "APPEARANCES         float64\n",
              "FIRST APPEARANCE     object\n",
              "YEAR                float64\n",
              "dtype: object"
            ]
          },
          "metadata": {
            "tags": []
          },
          "execution_count": 3
        }
      ]
    },
    {
      "cell_type": "code",
      "metadata": {
        "id": "EiUW3E6HhRsG",
        "colab_type": "code",
        "outputId": "806d75e2-605f-4397-f161-c698c150f267",
        "colab": {
          "base_uri": "https://localhost:8080/",
          "height": 34
        }
      },
      "source": [
        "# Размерность датасета\n",
        "df.shape"
      ],
      "execution_count": 0,
      "outputs": [
        {
          "output_type": "execute_result",
          "data": {
            "text/plain": [
              "(6896, 13)"
            ]
          },
          "metadata": {
            "tags": []
          },
          "execution_count": 4
        }
      ]
    },
    {
      "cell_type": "markdown",
      "metadata": {
        "id": "oDhOho7NfxyZ",
        "colab_type": "text"
      },
      "source": [
        "Все признаки, за исключением `APPEARANCES`, `YEAR` и `page_id` являются категориальаными."
      ]
    },
    {
      "cell_type": "code",
      "metadata": {
        "id": "a80j4KfTgbZK",
        "colab_type": "code",
        "outputId": "c23f6d9e-6d64-44e9-fa76-0cfadc723663",
        "colab": {
          "base_uri": "https://localhost:8080/",
          "height": 252
        }
      },
      "source": [
        "# Проверка на пропуски в данных\n",
        "df.isnull().sum()"
      ],
      "execution_count": 0,
      "outputs": [
        {
          "output_type": "execute_result",
          "data": {
            "text/plain": [
              "page_id                0\n",
              "name                   0\n",
              "urlslug                0\n",
              "ID                  2013\n",
              "ALIGN                601\n",
              "EYE                 3628\n",
              "HAIR                2274\n",
              "SEX                  125\n",
              "GSM                 6832\n",
              "ALIVE                  3\n",
              "APPEARANCES          355\n",
              "FIRST APPEARANCE      69\n",
              "YEAR                  69\n",
              "dtype: int64"
            ]
          },
          "metadata": {
            "tags": []
          },
          "execution_count": 5
        }
      ]
    },
    {
      "cell_type": "markdown",
      "metadata": {
        "id": "S1NJmA82jMEz",
        "colab_type": "text"
      },
      "source": [
        "# Обработка пропусков"
      ]
    },
    {
      "cell_type": "markdown",
      "metadata": {
        "id": "sH-_lK1ri1Vn",
        "colab_type": "text"
      },
      "source": [
        "Для категориального признака `GSM` значения отсутсвуют почти во всех записях! Признак следует удалить из датасета целиком за его ненадобностью."
      ]
    },
    {
      "cell_type": "markdown",
      "metadata": {
        "id": "YXDiclFjob70",
        "colab_type": "text"
      },
      "source": [
        ""
      ]
    },
    {
      "cell_type": "code",
      "metadata": {
        "id": "ERNVOlp8jHJS",
        "colab_type": "code",
        "outputId": "95110397-fab6-4bef-dc6e-33d80b80a3e6",
        "colab": {
          "base_uri": "https://localhost:8080/",
          "height": 235
        }
      },
      "source": [
        "# Удаление признака GSM\n",
        "df1 = df.drop(labels=\"GSM\", axis=1)\n",
        "df1.isnull().sum()"
      ],
      "execution_count": 0,
      "outputs": [
        {
          "output_type": "execute_result",
          "data": {
            "text/plain": [
              "page_id                0\n",
              "name                   0\n",
              "urlslug                0\n",
              "ID                  2013\n",
              "ALIGN                601\n",
              "EYE                 3628\n",
              "HAIR                2274\n",
              "SEX                  125\n",
              "ALIVE                  3\n",
              "APPEARANCES          355\n",
              "FIRST APPEARANCE      69\n",
              "YEAR                  69\n",
              "dtype: int64"
            ]
          },
          "metadata": {
            "tags": []
          },
          "execution_count": 6
        }
      ]
    },
    {
      "cell_type": "markdown",
      "metadata": {
        "id": "GfmhjS94kchk",
        "colab_type": "text"
      },
      "source": [
        "Для количественного признака `Year` (отсутвующих значений - 1%) сгенерируем описательную статистику, а также построим `boxplot`, чтобы подобрать наиболее подходящую стратегию обработки пропусков."
      ]
    },
    {
      "cell_type": "code",
      "metadata": {
        "id": "mgRJYHR2lL0w",
        "colab_type": "code",
        "outputId": "b68694b2-675c-41ab-9315-0cfc3edd376f",
        "colab": {
          "base_uri": "https://localhost:8080/",
          "height": 168
        }
      },
      "source": [
        "df1['YEAR'].describe()"
      ],
      "execution_count": 0,
      "outputs": [
        {
          "output_type": "execute_result",
          "data": {
            "text/plain": [
              "count    6827.000000\n",
              "mean     1989.766662\n",
              "std        16.824194\n",
              "min      1935.000000\n",
              "25%      1983.000000\n",
              "50%      1992.000000\n",
              "75%      2003.000000\n",
              "max      2013.000000\n",
              "Name: YEAR, dtype: float64"
            ]
          },
          "metadata": {
            "tags": []
          },
          "execution_count": 7
        }
      ]
    },
    {
      "cell_type": "code",
      "metadata": {
        "id": "63JnQxm4oi4q",
        "colab_type": "code",
        "outputId": "0eed7772-f991-440f-84bd-0abd50b0a9f9",
        "colab": {
          "base_uri": "https://localhost:8080/",
          "height": 218
        }
      },
      "source": [
        "df1['YEAR'].value_counts()"
      ],
      "execution_count": 0,
      "outputs": [
        {
          "output_type": "execute_result",
          "data": {
            "text/plain": [
              "2006.0    303\n",
              "1988.0    286\n",
              "2010.0    279\n",
              "1989.0    266\n",
              "1987.0    254\n",
              "         ... \n",
              "1952.0      5\n",
              "1937.0      4\n",
              "1935.0      1\n",
              "1953.0      1\n",
              "2013.0      1\n",
              "Name: YEAR, Length: 79, dtype: int64"
            ]
          },
          "metadata": {
            "tags": []
          },
          "execution_count": 8
        }
      ]
    },
    {
      "cell_type": "code",
      "metadata": {
        "id": "zO_qKlwUljSn",
        "colab_type": "code",
        "outputId": "f15e699f-dd67-42c5-ff0b-b7df6ccd990e",
        "colab": {
          "base_uri": "https://localhost:8080/",
          "height": 296
        }
      },
      "source": [
        "sns.boxplot(x=df1['YEAR'])"
      ],
      "execution_count": 0,
      "outputs": [
        {
          "output_type": "execute_result",
          "data": {
            "text/plain": [
              "<matplotlib.axes._subplots.AxesSubplot at 0x7fbc57af5d30>"
            ]
          },
          "metadata": {
            "tags": []
          },
          "execution_count": 9
        },
        {
          "output_type": "display_data",
          "data": {
            "image/png": "[encoded data removed]",
            "text/plain": [
              "<Figure size 432x288 with 1 Axes>"
            ]
          },
          "metadata": {
            "tags": [],
            "needs_background": "light"
          }
        }
      ]
    },
    {
      "cell_type": "markdown",
      "metadata": {
        "id": "Suf8rBmPljGT",
        "colab_type": "text"
      },
      "source": [
        "Половина всех значений признака лежит на отрезке [1983, 2003]. Медиана признака `YEAR` равна 1992."
      ]
    },
    {
      "cell_type": "code",
      "metadata": {
        "id": "KGBISj5pptZQ",
        "colab_type": "code",
        "outputId": "2484f1ff-2c02-4845-84d6-aac6430ab93b",
        "colab": {
          "base_uri": "https://localhost:8080/",
          "height": 296
        }
      },
      "source": [
        "sns.distplot(df1['YEAR'], bins=79)"
      ],
      "execution_count": 0,
      "outputs": [
        {
          "output_type": "execute_result",
          "data": {
            "text/plain": [
              "<matplotlib.axes._subplots.AxesSubplot at 0x7fbc57a512b0>"
            ]
          },
          "metadata": {
            "tags": []
          },
          "execution_count": 10
        },
        {
          "output_type": "display_data",
          "data": {
            "image/png": "[encoded data removed]",
            "text/plain": [
              "<Figure size 432x288 with 1 Axes>"
            ]
          },
          "metadata": {
            "tags": [],
            "needs_background": "light"
          }
        }
      ]
    },
    {
      "cell_type": "markdown",
      "metadata": {
        "id": "t2hBhVz3Hun9",
        "colab_type": "text"
      },
      "source": [
        "Заполним пропуски медаинным значением."
      ]
    },
    {
      "cell_type": "code",
      "metadata": {
        "id": "nObwwRZmH0LI",
        "colab_type": "code",
        "colab": {}
      },
      "source": [
        "# Медиана\n",
        "med = df1['YEAR'].median()"
      ],
      "execution_count": 0,
      "outputs": []
    },
    {
      "cell_type": "code",
      "metadata": {
        "id": "QPStdyLgH3U0",
        "colab_type": "code",
        "outputId": "cc5ff3f6-74e7-4bf9-c3a9-984b375cb3cf",
        "colab": {
          "base_uri": "https://localhost:8080/",
          "height": 118
        }
      },
      "source": [
        "df1['YEAR'].tail()"
      ],
      "execution_count": 0,
      "outputs": [
        {
          "output_type": "execute_result",
          "data": {
            "text/plain": [
              "6891   NaN\n",
              "6892   NaN\n",
              "6893   NaN\n",
              "6894   NaN\n",
              "6895   NaN\n",
              "Name: YEAR, dtype: float64"
            ]
          },
          "metadata": {
            "tags": []
          },
          "execution_count": 12
        }
      ]
    },
    {
      "cell_type": "code",
      "metadata": {
        "id": "BBj7qhrLHCYw",
        "colab_type": "code",
        "outputId": "f4497344-9b7a-4a53-8fb1-9f819c54bf20",
        "colab": {
          "base_uri": "https://localhost:8080/",
          "height": 118
        }
      },
      "source": [
        "# Заполнение пропусков\n",
        "df1['YEAR'] = df1['YEAR'].fillna(value=med)\n",
        "df1['YEAR'].tail()"
      ],
      "execution_count": 0,
      "outputs": [
        {
          "output_type": "execute_result",
          "data": {
            "text/plain": [
              "6891    1992.0\n",
              "6892    1992.0\n",
              "6893    1992.0\n",
              "6894    1992.0\n",
              "6895    1992.0\n",
              "Name: YEAR, dtype: float64"
            ]
          },
          "metadata": {
            "tags": []
          },
          "execution_count": 13
        }
      ]
    }
  ]
}