{
  "nbformat": 4,
  "nbformat_minor": 0,
  "metadata": {
    "colab": {
      "name": "Lab4.ipynb",
      "provenance": [],
      "toc_visible": true,
      "mount_file_id": "1uufXoVOkshAGRVmHdR_vk23sgffgPr5i",
      "authorship_tag": "ABX9TyOiJT62IJY4PZd7c/4o9EpM",
      "include_colab_link": true
    },
    "kernelspec": {
      "name": "python3",
      "display_name": "Python 3"
    }
  },
  "cells": [
    {
      "cell_type": "markdown",
      "metadata": {
        "id": "view-in-github",
        "colab_type": "text"
      },
      "source": [
        "<a href=\"https://colab.research.google.com/github/Niki-KR/TMO/blob/master/notebooks/Lab4.ipynb\" target=\"_parent\"><img src=\"https://colab.research.google.com/assets/colab-badge.svg\" alt=\"Open In Colab\"/></a>"
      ]
    },
    {
      "cell_type": "markdown",
      "metadata": {
        "id": "WJoz9jhEBanh",
        "colab_type": "text"
      },
      "source": [
        "# Лабораторная работа №4. Подготовка обучающей и тестовой выборки, кросс-валидация и подбор гиперпараметров на примере метода ближайших соседей."
      ]
    },
    {
      "cell_type": "code",
      "metadata": {
        "id": "OTbBa5O2_-Zy",
        "colab_type": "code",
        "colab": {
          "base_uri": "https://localhost:8080/",
          "height": 70
        },
        "outputId": "0c48a48e-6f62-46ce-b264-8b14a4bfe100"
      },
      "source": [
        "import pandas as pd\n",
        "import numpy as np\n",
        "import matplotlib.pyplot as plt\n",
        "import seaborn as sns\n",
        "from sklearn.model_selection import train_test_split, cross_val_score, KFold, RepeatedKFold, ShuffleSplit, StratifiedKFold, RepeatedStratifiedKFold, StratifiedShuffleSplit, GridSearchCV\n",
        "from sklearn.neighbors import KNeighborsClassifier\n",
        "from sklearn.datasets import load_wine\n",
        "from sklearn.metrics import classification_report, SCORERS"
      ],
      "execution_count": 1,
      "outputs": [
        {
          "output_type": "stream",
          "text": [
            "/usr/local/lib/python3.6/dist-packages/statsmodels/tools/_testing.py:19: FutureWarning: pandas.util.testing is deprecated. Use the functions in the public API at pandas.testing instead.\n",
            "  import pandas.util.testing as tm\n"
          ],
          "name": "stderr"
        }
      ]
    },
    {
      "cell_type": "markdown",
      "metadata": {
        "id": "17l87R86qkaZ",
        "colab_type": "text"
      },
      "source": [
        "## Загрузка набора данных. Разбиение на тестовую и обучающую выборки"
      ]
    },
    {
      "cell_type": "code",
      "metadata": {
        "id": "NRFFVDLZJpPm",
        "colab_type": "code",
        "colab": {}
      },
      "source": [
        "X, y = load_wine(return_X_y=True)\n",
        "X_train,  X_test,  y_train,  y_test =  train_test_split(X,  y,  random_state=42)"
      ],
      "execution_count": 0,
      "outputs": []
    },
    {
      "cell_type": "code",
      "metadata": {
        "id": "tCrC3ko6KkaS",
        "colab_type": "code",
        "outputId": "a786cd67-88f3-47d5-ff74-392b2095d71a",
        "colab": {
          "base_uri": "https://localhost:8080/",
          "height": 84
        }
      },
      "source": [
        "print(X_train.shape)\n",
        "print(X_test.shape)\n",
        "print(y_train.shape)\n",
        "print(y_test.shape)"
      ],
      "execution_count": 3,
      "outputs": [
        {
          "output_type": "stream",
          "text": [
            "(133, 13)\n",
            "(45, 13)\n",
            "(133,)\n",
            "(45,)\n"
          ],
          "name": "stdout"
        }
      ]
    },
    {
      "cell_type": "markdown",
      "metadata": {
        "id": "BDcl-UqkriNW",
        "colab_type": "text"
      },
      "source": [
        "## KNN с тремя соседями"
      ]
    },
    {
      "cell_type": "code",
      "metadata": {
        "id": "jt2xNyMBLlyv",
        "colab_type": "code",
        "outputId": "ce17a710-4257-4c07-865c-b74c80902310",
        "colab": {
          "base_uri": "https://localhost:8080/",
          "height": 185
        }
      },
      "source": [
        "classifier_3 = KNeighborsClassifier(n_neighbors=3)\n",
        "classifier_3.fit(X_train, y_train)\n",
        "predicted = classifier_3.predict(X_test)\n",
        "print(classification_report(y_test, predicted))"
      ],
      "execution_count": 4,
      "outputs": [
        {
          "output_type": "stream",
          "text": [
            "              precision    recall  f1-score   support\n",
            "\n",
            "           0       0.87      0.87      0.87        15\n",
            "           1       0.81      0.72      0.76        18\n",
            "           2       0.57      0.67      0.62        12\n",
            "\n",
            "    accuracy                           0.76        45\n",
            "   macro avg       0.75      0.75      0.75        45\n",
            "weighted avg       0.77      0.76      0.76        45\n",
            "\n"
          ],
          "name": "stdout"
        }
      ]
    },
    {
      "cell_type": "markdown",
      "metadata": {
        "id": "veB6k-efrsDi",
        "colab_type": "text"
      },
      "source": [
        "## Кросс-валидация"
      ]
    },
    {
      "cell_type": "code",
      "metadata": {
        "id": "-6j_1YXKNkVO",
        "colab_type": "code",
        "colab": {}
      },
      "source": [
        "kf = KFold(n_splits=5)\n",
        "rkf = RepeatedKFold(n_splits=5, n_repeats=3)\n",
        "ss = ShuffleSplit(n_splits=10)\n",
        "skf = StratifiedKFold(n_splits=5)\n",
        "rskf = RepeatedStratifiedKFold(n_splits=5, n_repeats=3)\n",
        "sss = StratifiedShuffleSplit(n_splits=10)\n",
        "\n",
        "validators = [kf, rkf, ss, skf, rskf, sss]"
      ],
      "execution_count": 0,
      "outputs": []
    },
    {
      "cell_type": "code",
      "metadata": {
        "id": "QejxnixEOdY6",
        "colab_type": "code",
        "colab": {
          "base_uri": "https://localhost:8080/",
          "height": 521
        },
        "outputId": "ff9543c0-f3dd-48a8-b19a-e7a6b37634dd"
      },
      "source": [
        "for val in validators:\n",
        "  scores = cross_val_score(KNeighborsClassifier(n_neighbors=3), X, y, cv=val, scoring=\"f1_macro\")\n",
        "  print(type(val).__name__)\n",
        "  print(scores)\n",
        "  print(scores.mean(), \"±\", scores.std(), \"\\n\")"
      ],
      "execution_count": 6,
      "outputs": [
        {
          "output_type": "stream",
          "text": [
            "KFold\n",
            "[0.46268657 0.52163743 0.23030303 0.5037037  0.05263158]\n",
            "0.3541924614037732 ± 0.18354833477610105 \n",
            "\n",
            "RepeatedKFold\n",
            "[0.72483455 0.63504274 0.6028462  0.7245671  0.77482239 0.66999197\n",
            " 0.68668047 0.73214286 0.53459223 0.71895425 0.80064269 0.65925926\n",
            " 0.61532129 0.77089783 0.63006189]\n",
            "0.6853771813100387 ± 0.07116962204541094 \n",
            "\n",
            "ShuffleSplit\n",
            "[0.71282051 0.52096052 0.59259259 0.66045066 0.66045066 0.64057239\n",
            " 0.56654457 0.61111111 0.92673993 0.72222222]\n",
            "0.6614465164465165 ± 0.10638068007568899 \n",
            "\n",
            "StratifiedKFold\n",
            "[0.63053613 0.69075369 0.65873016 0.63174603 0.82666667]\n",
            "0.6876865356865356 ± 0.07288191106697622 \n",
            "\n",
            "RepeatedStratifiedKFold\n",
            "[0.55982906 0.6925561  0.73760684 0.6540404  0.74344168 0.64796992\n",
            " 0.77753623 0.70414295 0.68439898 0.70299145 0.65555556 0.69444011\n",
            " 0.78101209 0.72996835 0.65555556]\n",
            "0.6947363517818592 ± 0.05485285977152599 \n",
            "\n",
            "StratifiedShuffleSplit\n",
            "[0.52096052 0.81562882 0.82222222 0.72294372 0.55952381 0.76349206\n",
            " 0.77777778 0.78333333 0.78166278 0.93939394]\n",
            "0.7486938986938986 ± 0.11743755101794308 \n",
            "\n"
          ],
          "name": "stdout"
        }
      ]
    },
    {
      "cell_type": "markdown",
      "metadata": {
        "id": "INI73MkVr4PR",
        "colab_type": "text"
      },
      "source": [
        "## Подбор гиперпараметра K"
      ]
    },
    {
      "cell_type": "code",
      "metadata": {
        "id": "zbpz3zSxniC2",
        "colab_type": "code",
        "colab": {
          "base_uri": "https://localhost:8080/",
          "height": 34
        },
        "outputId": "5c78c7eb-1f39-4a52-b7d0-98d3be85eaa4"
      },
      "source": [
        "n_range = np.array(range(1, 11, 1))\n",
        "tuned_parameters = [{'n_neighbors': n_range}]\n",
        "tuned_parameters"
      ],
      "execution_count": 7,
      "outputs": [
        {
          "output_type": "execute_result",
          "data": {
            "text/plain": [
              "[{'n_neighbors': array([ 1,  2,  3,  4,  5,  6,  7,  8,  9, 10])}]"
            ]
          },
          "metadata": {
            "tags": []
          },
          "execution_count": 7
        }
      ]
    },
    {
      "cell_type": "code",
      "metadata": {
        "id": "WOEQGdccqeYF",
        "colab_type": "code",
        "colab": {
          "base_uri": "https://localhost:8080/",
          "height": 50
        },
        "outputId": "1bd05599-555a-4ea6-f8e9-9c747f89d110"
      },
      "source": [
        "%%time\n",
        "clf_gs = GridSearchCV(KNeighborsClassifier(), tuned_parameters, cv=5, scoring='f1_macro')\n",
        "clf_gs.fit(X_train, y_train)"
      ],
      "execution_count": 8,
      "outputs": [
        {
          "output_type": "stream",
          "text": [
            "CPU times: user 145 ms, sys: 253 µs, total: 146 ms\n",
            "Wall time: 147 ms\n"
          ],
          "name": "stdout"
        }
      ]
    },
    {
      "cell_type": "code",
      "metadata": {
        "id": "NfwQAxihq94Z",
        "colab_type": "code",
        "colab": {
          "base_uri": "https://localhost:8080/",
          "height": 67
        },
        "outputId": "9223cbdc-f036-4c3e-aae3-cae28dc15b50"
      },
      "source": [
        "# Лучший классификатор\n",
        "clf_gs.best_estimator_"
      ],
      "execution_count": 9,
      "outputs": [
        {
          "output_type": "execute_result",
          "data": {
            "text/plain": [
              "KNeighborsClassifier(algorithm='auto', leaf_size=30, metric='minkowski',\n",
              "                     metric_params=None, n_jobs=None, n_neighbors=1, p=2,\n",
              "                     weights='uniform')"
            ]
          },
          "metadata": {
            "tags": []
          },
          "execution_count": 9
        }
      ]
    },
    {
      "cell_type": "code",
      "metadata": {
        "id": "3IW_AmU8rQac",
        "colab_type": "code",
        "colab": {
          "base_uri": "https://localhost:8080/",
          "height": 34
        },
        "outputId": "a481b9e2-f482-47ec-e8e2-1f04750b8b69"
      },
      "source": [
        "# Лучшая F1-метрика\n",
        "clf_gs.best_score_"
      ],
      "execution_count": 10,
      "outputs": [
        {
          "output_type": "execute_result",
          "data": {
            "text/plain": [
              "0.7438210961152139"
            ]
          },
          "metadata": {
            "tags": []
          },
          "execution_count": 10
        }
      ]
    },
    {
      "cell_type": "code",
      "metadata": {
        "id": "Smkh7B3jrUJD",
        "colab_type": "code",
        "colab": {
          "base_uri": "https://localhost:8080/",
          "height": 34
        },
        "outputId": "0b6ed004-1e1b-4ea1-c4e6-41e58adcc699"
      },
      "source": [
        "# Лучшее значение гиперпараметра\n",
        "clf_gs.best_params_"
      ],
      "execution_count": 11,
      "outputs": [
        {
          "output_type": "execute_result",
          "data": {
            "text/plain": [
              "{'n_neighbors': 1}"
            ]
          },
          "metadata": {
            "tags": []
          },
          "execution_count": 11
        }
      ]
    }
  ]
}