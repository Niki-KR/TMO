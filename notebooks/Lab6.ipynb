{
  "nbformat": 4,
  "nbformat_minor": 0,
  "metadata": {
    "colab": {
      "name": "Lab6.ipynb",
      "provenance": [],
      "authorship_tag": "ABX9TyPOyG0Wp4kFM7z7xrITLWT2",
      "include_colab_link": true
    },
    "kernelspec": {
      "name": "python3",
      "display_name": "Python 3"
    }
  },
  "cells": [
    {
      "cell_type": "markdown",
      "metadata": {
        "id": "view-in-github",
        "colab_type": "text"
      },
      "source": [
        "<a href=\"https://colab.research.google.com/github/Niki-KR/TMO/blob/master/notebooks/Lab6.ipynb\" target=\"_parent\"><img src=\"https://colab.research.google.com/assets/colab-badge.svg\" alt=\"Open In Colab\"/></a>"
      ]
    },
    {
      "cell_type": "markdown",
      "metadata": {
        "id": "cKGRIWyAtJls",
        "colab_type": "text"
      },
      "source": [
        "# Лабораторная работа №6. Ансамбли моделей машинного обучения."
      ]
    },
    {
      "cell_type": "code",
      "metadata": {
        "id": "2SYI5ltUs8DY",
        "colab_type": "code",
        "colab": {}
      },
      "source": [
        "import numpy as np\n",
        "import pandas as pd\n",
        "from sklearn.datasets import load_wine\n",
        "from sklearn.model_selection import train_test_split"
      ],
      "execution_count": 0,
      "outputs": []
    },
    {
      "cell_type": "markdown",
      "metadata": {
        "id": "17l87R86qkaZ",
        "colab_type": "text"
      },
      "source": [
        "## Загрузка набора данных. Разбиение на тестовую и обучающую выборки"
      ]
    },
    {
      "cell_type": "code",
      "metadata": {
        "id": "NRFFVDLZJpPm",
        "colab_type": "code",
        "colab": {}
      },
      "source": [
        "X, y = load_wine(return_X_y=True)\n",
        "X_train,  X_test,  y_train,  y_test =  train_test_split(X,  y,  random_state=42)"
      ],
      "execution_count": 0,
      "outputs": []
    },
    {
      "cell_type": "code",
      "metadata": {
        "id": "tCrC3ko6KkaS",
        "colab_type": "code",
        "outputId": "8f888243-a810-494b-95b2-14f446651110",
        "colab": {
          "base_uri": "https://localhost:8080/",
          "height": 84
        }
      },
      "source": [
        "print(X_train.shape)\n",
        "print(X_test.shape)\n",
        "print(y_train.shape)\n",
        "print(y_test.shape)"
      ],
      "execution_count": 3,
      "outputs": [
        {
          "output_type": "stream",
          "text": [
            "(133, 13)\n",
            "(45, 13)\n",
            "(133,)\n",
            "(45,)\n"
          ],
          "name": "stdout"
        }
      ]
    },
    {
      "cell_type": "code",
      "metadata": {
        "id": "VIIVCVNjKaf4",
        "colab_type": "code",
        "colab": {}
      },
      "source": [
        "from sklearn.ensemble import RandomForestClassifier, ExtraTreesClassifier\n",
        "from sklearn.metrics import classification_report\n",
        "\n",
        "# Отчёт о метриках модели\n",
        "def test_model(model, x, y):\n",
        "  results = model.predict(x)\n",
        "  return classification_report(y, results)"
      ],
      "execution_count": 0,
      "outputs": []
    },
    {
      "cell_type": "markdown",
      "metadata": {
        "id": "ZHNJKp54PU9g",
        "colab_type": "text"
      },
      "source": [
        "## Случайный лес"
      ]
    },
    {
      "cell_type": "code",
      "metadata": {
        "id": "uzMcWwCPKy7y",
        "colab_type": "code",
        "outputId": "702b6d18-9d2b-472d-d9b7-a9692070b547",
        "colab": {
          "base_uri": "https://localhost:8080/",
          "height": 1000
        }
      },
      "source": [
        "for n_trees in range(5, 35, 5):\n",
        "  print(\"{} деревьев.\\n\".format(n_trees))\n",
        "  rfc = RandomForestClassifier(n_estimators=n_trees, max_depth=None)\n",
        "  rfc.fit(X_train, y_train)\n",
        "  print(test_model(rfc, X_test, y_test))"
      ],
      "execution_count": 14,
      "outputs": [
        {
          "output_type": "stream",
          "text": [
            "5 деревьев.\n",
            "\n",
            "              precision    recall  f1-score   support\n",
            "\n",
            "           0       0.88      1.00      0.94        15\n",
            "           1       0.94      0.89      0.91        18\n",
            "           2       1.00      0.92      0.96        12\n",
            "\n",
            "    accuracy                           0.93        45\n",
            "   macro avg       0.94      0.94      0.94        45\n",
            "weighted avg       0.94      0.93      0.93        45\n",
            "\n",
            "10 деревьев.\n",
            "\n",
            "              precision    recall  f1-score   support\n",
            "\n",
            "           0       1.00      1.00      1.00        15\n",
            "           1       1.00      1.00      1.00        18\n",
            "           2       1.00      1.00      1.00        12\n",
            "\n",
            "    accuracy                           1.00        45\n",
            "   macro avg       1.00      1.00      1.00        45\n",
            "weighted avg       1.00      1.00      1.00        45\n",
            "\n",
            "15 деревьев.\n",
            "\n",
            "              precision    recall  f1-score   support\n",
            "\n",
            "           0       1.00      1.00      1.00        15\n",
            "           1       1.00      1.00      1.00        18\n",
            "           2       1.00      1.00      1.00        12\n",
            "\n",
            "    accuracy                           1.00        45\n",
            "   macro avg       1.00      1.00      1.00        45\n",
            "weighted avg       1.00      1.00      1.00        45\n",
            "\n",
            "20 деревьев.\n",
            "\n",
            "              precision    recall  f1-score   support\n",
            "\n",
            "           0       1.00      1.00      1.00        15\n",
            "           1       1.00      0.94      0.97        18\n",
            "           2       0.92      1.00      0.96        12\n",
            "\n",
            "    accuracy                           0.98        45\n",
            "   macro avg       0.97      0.98      0.98        45\n",
            "weighted avg       0.98      0.98      0.98        45\n",
            "\n",
            "25 деревьев.\n",
            "\n",
            "              precision    recall  f1-score   support\n",
            "\n",
            "           0       1.00      0.93      0.97        15\n",
            "           1       0.94      0.94      0.94        18\n",
            "           2       0.92      1.00      0.96        12\n",
            "\n",
            "    accuracy                           0.96        45\n",
            "   macro avg       0.96      0.96      0.96        45\n",
            "weighted avg       0.96      0.96      0.96        45\n",
            "\n",
            "30 деревьев.\n",
            "\n",
            "              precision    recall  f1-score   support\n",
            "\n",
            "           0       1.00      1.00      1.00        15\n",
            "           1       1.00      1.00      1.00        18\n",
            "           2       1.00      1.00      1.00        12\n",
            "\n",
            "    accuracy                           1.00        45\n",
            "   macro avg       1.00      1.00      1.00        45\n",
            "weighted avg       1.00      1.00      1.00        45\n",
            "\n"
          ],
          "name": "stdout"
        }
      ]
    },
    {
      "cell_type": "code",
      "metadata": {
        "id": "0-PDjyc4YGSV",
        "colab_type": "code",
        "colab": {}
      },
      "source": [
        "from matplotlib import pyplot as plt\n",
        "from sklearn.tree import plot_tree"
      ],
      "execution_count": 0,
      "outputs": []
    },
    {
      "cell_type": "markdown",
      "metadata": {
        "id": "wQmWq2sbPfUy",
        "colab_type": "text"
      },
      "source": [
        "## Сверхслучайный лес"
      ]
    },
    {
      "cell_type": "code",
      "metadata": {
        "id": "uv4YOZghNyzj",
        "colab_type": "code",
        "outputId": "801593c9-a8c0-44d8-b11f-139c55ab8eb8",
        "colab": {
          "base_uri": "https://localhost:8080/",
          "height": 1000
        }
      },
      "source": [
        "for n_trees in range(5, 35, 5):\n",
        "  print(\"{} деревьев.\\n\".format(n_trees))\n",
        "  etc = RandomForestClassifier(n_estimators=n_trees, max_depth=None)\n",
        "  etc.fit(X_train, y_train)\n",
        "  print(test_model(etc, X_test, y_test))"
      ],
      "execution_count": 16,
      "outputs": [
        {
          "output_type": "stream",
          "text": [
            "5 деревьев.\n",
            "\n",
            "              precision    recall  f1-score   support\n",
            "\n",
            "           0       0.88      0.93      0.90        15\n",
            "           1       0.84      0.89      0.86        18\n",
            "           2       1.00      0.83      0.91        12\n",
            "\n",
            "    accuracy                           0.89        45\n",
            "   macro avg       0.91      0.89      0.89        45\n",
            "weighted avg       0.90      0.89      0.89        45\n",
            "\n",
            "10 деревьев.\n",
            "\n",
            "              precision    recall  f1-score   support\n",
            "\n",
            "           0       0.94      1.00      0.97        15\n",
            "           1       0.94      0.89      0.91        18\n",
            "           2       0.92      0.92      0.92        12\n",
            "\n",
            "    accuracy                           0.93        45\n",
            "   macro avg       0.93      0.94      0.93        45\n",
            "weighted avg       0.93      0.93      0.93        45\n",
            "\n",
            "15 деревьев.\n",
            "\n",
            "              precision    recall  f1-score   support\n",
            "\n",
            "           0       0.94      1.00      0.97        15\n",
            "           1       1.00      0.94      0.97        18\n",
            "           2       1.00      1.00      1.00        12\n",
            "\n",
            "    accuracy                           0.98        45\n",
            "   macro avg       0.98      0.98      0.98        45\n",
            "weighted avg       0.98      0.98      0.98        45\n",
            "\n",
            "20 деревьев.\n",
            "\n",
            "              precision    recall  f1-score   support\n",
            "\n",
            "           0       1.00      1.00      1.00        15\n",
            "           1       1.00      1.00      1.00        18\n",
            "           2       1.00      1.00      1.00        12\n",
            "\n",
            "    accuracy                           1.00        45\n",
            "   macro avg       1.00      1.00      1.00        45\n",
            "weighted avg       1.00      1.00      1.00        45\n",
            "\n",
            "25 деревьев.\n",
            "\n",
            "              precision    recall  f1-score   support\n",
            "\n",
            "           0       1.00      1.00      1.00        15\n",
            "           1       1.00      1.00      1.00        18\n",
            "           2       1.00      1.00      1.00        12\n",
            "\n",
            "    accuracy                           1.00        45\n",
            "   macro avg       1.00      1.00      1.00        45\n",
            "weighted avg       1.00      1.00      1.00        45\n",
            "\n",
            "30 деревьев.\n",
            "\n",
            "              precision    recall  f1-score   support\n",
            "\n",
            "           0       1.00      1.00      1.00        15\n",
            "           1       1.00      1.00      1.00        18\n",
            "           2       1.00      1.00      1.00        12\n",
            "\n",
            "    accuracy                           1.00        45\n",
            "   macro avg       1.00      1.00      1.00        45\n",
            "weighted avg       1.00      1.00      1.00        45\n",
            "\n"
          ],
          "name": "stdout"
        }
      ]
    },
    {
      "cell_type": "markdown",
      "metadata": {
        "id": "4rY7WoFUPkle",
        "colab_type": "text"
      },
      "source": [
        "## AdaBoost"
      ]
    },
    {
      "cell_type": "code",
      "metadata": {
        "id": "RaoPwuQBOWSx",
        "colab_type": "code",
        "colab": {}
      },
      "source": [
        "from sklearn.ensemble import AdaBoostClassifier"
      ],
      "execution_count": 0,
      "outputs": []
    },
    {
      "cell_type": "code",
      "metadata": {
        "id": "uMM-UAU-f8N5",
        "colab_type": "code",
        "colab": {
          "base_uri": "https://localhost:8080/",
          "height": 1000
        },
        "outputId": "b94b8ffa-4af2-462a-8ece-0365d2819594"
      },
      "source": [
        "for n in range(5, 35, 5):\n",
        "  print(\"{} деревьев.\\n\".format(n))\n",
        "  ada = AdaBoostClassifier(n_estimators=n, random_state=42, algorithm=\"SAMME\")\n",
        "  ada.fit(X_train, y_train)\n",
        "  print(test_model(ada, X_test, y_test))"
      ],
      "execution_count": 20,
      "outputs": [
        {
          "output_type": "stream",
          "text": [
            "5 деревьев.\n",
            "\n",
            "              precision    recall  f1-score   support\n",
            "\n",
            "           0       0.93      0.87      0.90        15\n",
            "           1       0.84      0.89      0.86        18\n",
            "           2       0.92      0.92      0.92        12\n",
            "\n",
            "    accuracy                           0.89        45\n",
            "   macro avg       0.90      0.89      0.89        45\n",
            "weighted avg       0.89      0.89      0.89        45\n",
            "\n",
            "10 деревьев.\n",
            "\n",
            "              precision    recall  f1-score   support\n",
            "\n",
            "           0       0.88      1.00      0.94        15\n",
            "           1       0.94      0.89      0.91        18\n",
            "           2       0.91      0.83      0.87        12\n",
            "\n",
            "    accuracy                           0.91        45\n",
            "   macro avg       0.91      0.91      0.91        45\n",
            "weighted avg       0.91      0.91      0.91        45\n",
            "\n",
            "15 деревьев.\n",
            "\n",
            "              precision    recall  f1-score   support\n",
            "\n",
            "           0       0.88      1.00      0.94        15\n",
            "           1       0.94      0.94      0.94        18\n",
            "           2       1.00      0.83      0.91        12\n",
            "\n",
            "    accuracy                           0.93        45\n",
            "   macro avg       0.94      0.93      0.93        45\n",
            "weighted avg       0.94      0.93      0.93        45\n",
            "\n",
            "20 деревьев.\n",
            "\n",
            "              precision    recall  f1-score   support\n",
            "\n",
            "           0       0.94      1.00      0.97        15\n",
            "           1       0.94      0.89      0.91        18\n",
            "           2       0.92      0.92      0.92        12\n",
            "\n",
            "    accuracy                           0.93        45\n",
            "   macro avg       0.93      0.94      0.93        45\n",
            "weighted avg       0.93      0.93      0.93        45\n",
            "\n",
            "25 деревьев.\n",
            "\n",
            "              precision    recall  f1-score   support\n",
            "\n",
            "           0       0.94      1.00      0.97        15\n",
            "           1       0.94      0.89      0.91        18\n",
            "           2       0.92      0.92      0.92        12\n",
            "\n",
            "    accuracy                           0.93        45\n",
            "   macro avg       0.93      0.94      0.93        45\n",
            "weighted avg       0.93      0.93      0.93        45\n",
            "\n",
            "30 деревьев.\n",
            "\n",
            "              precision    recall  f1-score   support\n",
            "\n",
            "           0       0.94      1.00      0.97        15\n",
            "           1       0.94      0.83      0.88        18\n",
            "           2       0.85      0.92      0.88        12\n",
            "\n",
            "    accuracy                           0.91        45\n",
            "   macro avg       0.91      0.92      0.91        45\n",
            "weighted avg       0.91      0.91      0.91        45\n",
            "\n"
          ],
          "name": "stdout"
        }
      ]
    }
  ]
}