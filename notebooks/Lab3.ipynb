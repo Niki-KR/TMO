{
  "nbformat": 4,
  "nbformat_minor": 0,
  "metadata": {
    "colab": {
      "name": "Lab3.ipynb",
      "provenance": [],
      "toc_visible": true,
      "mount_file_id": "1nVGZp6ojm9KsMtB1J3cgony5ByWIPw2I",
      "authorship_tag": "ABX9TyMXsY+pnkO0gLXs5XPPPoY4",
      "include_colab_link": true
    },
    "kernelspec": {
      "name": "python3",
      "display_name": "Python 3"
    }
  },
  "cells": [
    {
      "cell_type": "markdown",
      "metadata": {
        "id": "view-in-github",
        "colab_type": "text"
      },
      "source": [
        "<a href=\"https://colab.research.google.com/github/Niki-KR/TMO/blob/master/notebooks/Lab3.ipynb\" target=\"_parent\"><img src=\"https://colab.research.google.com/assets/colab-badge.svg\" alt=\"Open In Colab\"/></a>"
      ]
    },
    {
      "cell_type": "markdown",
      "metadata": {
        "id": "9ZKKXGTpcbGs",
        "colab_type": "text"
      },
      "source": [
        "#Лабораторная работа №3. Обработка пропусков в данных, кодирование категориальных признаков, масштабирование данных."
      ]
    },
    {
      "cell_type": "markdown",
      "metadata": {
        "id": "AZRr4l1QetMX",
        "colab_type": "text"
      },
      "source": [
        "# Разведочный анализ данных"
      ]
    },
    {
      "cell_type": "code",
      "metadata": {
        "id": "qEOsgN2pcNgI",
        "colab_type": "code",
        "colab": {
          "base_uri": "https://localhost:8080/",
          "height": 70
        },
        "outputId": "1f94cf79-1c9c-441d-c071-0cfcca8b9792"
      },
      "source": [
        "import pandas as pd\n",
        "import numpy as np\n",
        "import matplotlib.pyplot as plt\n",
        "import seaborn as sns"
      ],
      "execution_count": 1,
      "outputs": [
        {
          "output_type": "stream",
          "text": [
            "/usr/local/lib/python3.6/dist-packages/statsmodels/tools/_testing.py:19: FutureWarning: pandas.util.testing is deprecated. Use the functions in the public API at pandas.testing instead.\n",
            "  import pandas.util.testing as tm\n"
          ],
          "name": "stderr"
        }
      ]
    },
    {
      "cell_type": "code",
      "metadata": {
        "id": "9O-xdsZMdK-_",
        "colab_type": "code",
        "colab": {}
      },
      "source": [
        "df = pd.read_csv(\"drive/My Drive/Colab Notebooks/dc-wikia-data.csv\")"
      ],
      "execution_count": 0,
      "outputs": []
    },
    {
      "cell_type": "code",
      "metadata": {
        "id": "lk-MCagYfi0b",
        "colab_type": "code",
        "outputId": "38c16611-311e-41dd-d401-3e909a89a273",
        "colab": {
          "base_uri": "https://localhost:8080/",
          "height": 252
        }
      },
      "source": [
        "# Типы признаков\n",
        "df.dtypes"
      ],
      "execution_count": 3,
      "outputs": [
        {
          "output_type": "execute_result",
          "data": {
            "text/plain": [
              "page_id               int64\n",
              "name                 object\n",
              "urlslug              object\n",
              "ID                   object\n",
              "ALIGN                object\n",
              "EYE                  object\n",
              "HAIR                 object\n",
              "SEX                  object\n",
              "GSM                  object\n",
              "ALIVE                object\n",
              "APPEARANCES         float64\n",
              "FIRST APPEARANCE     object\n",
              "YEAR                float64\n",
              "dtype: object"
            ]
          },
          "metadata": {
            "tags": []
          },
          "execution_count": 3
        }
      ]
    },
    {
      "cell_type": "code",
      "metadata": {
        "id": "EiUW3E6HhRsG",
        "colab_type": "code",
        "outputId": "0f6f01c7-b315-4cf5-e830-9a6866bf4afe",
        "colab": {
          "base_uri": "https://localhost:8080/",
          "height": 34
        }
      },
      "source": [
        "# Размерность датасета\n",
        "df.shape"
      ],
      "execution_count": 4,
      "outputs": [
        {
          "output_type": "execute_result",
          "data": {
            "text/plain": [
              "(6896, 13)"
            ]
          },
          "metadata": {
            "tags": []
          },
          "execution_count": 4
        }
      ]
    },
    {
      "cell_type": "markdown",
      "metadata": {
        "id": "oDhOho7NfxyZ",
        "colab_type": "text"
      },
      "source": [
        "Все признаки, за исключением `APPEARANCES`, `YEAR` и `page_id` являются категориальаными."
      ]
    },
    {
      "cell_type": "code",
      "metadata": {
        "id": "a80j4KfTgbZK",
        "colab_type": "code",
        "outputId": "1ee0b715-482a-43ff-8b2e-45c51fe40295",
        "colab": {
          "base_uri": "https://localhost:8080/",
          "height": 252
        }
      },
      "source": [
        "# Проверка на пропуски в данных\n",
        "df.isnull().sum()"
      ],
      "execution_count": 5,
      "outputs": [
        {
          "output_type": "execute_result",
          "data": {
            "text/plain": [
              "page_id                0\n",
              "name                   0\n",
              "urlslug                0\n",
              "ID                  2013\n",
              "ALIGN                601\n",
              "EYE                 3628\n",
              "HAIR                2274\n",
              "SEX                  125\n",
              "GSM                 6832\n",
              "ALIVE                  3\n",
              "APPEARANCES          355\n",
              "FIRST APPEARANCE      69\n",
              "YEAR                  69\n",
              "dtype: int64"
            ]
          },
          "metadata": {
            "tags": []
          },
          "execution_count": 5
        }
      ]
    },
    {
      "cell_type": "markdown",
      "metadata": {
        "id": "S1NJmA82jMEz",
        "colab_type": "text"
      },
      "source": [
        "# Обработка пропусков"
      ]
    },
    {
      "cell_type": "markdown",
      "metadata": {
        "id": "sH-_lK1ri1Vn",
        "colab_type": "text"
      },
      "source": [
        "Для категориального признака `GSM` значения отсутсвуют почти во всех записях! Признак следует удалить из датасета целиком за его ненадобностью."
      ]
    },
    {
      "cell_type": "code",
      "metadata": {
        "id": "ERNVOlp8jHJS",
        "colab_type": "code",
        "outputId": "17be3691-0aab-421c-b422-301c73df2180",
        "colab": {
          "base_uri": "https://localhost:8080/",
          "height": 235
        }
      },
      "source": [
        "# Удаление признака GSM\n",
        "df1 = df.drop(labels=\"GSM\", axis=1)\n",
        "df1.isnull().sum()"
      ],
      "execution_count": 6,
      "outputs": [
        {
          "output_type": "execute_result",
          "data": {
            "text/plain": [
              "page_id                0\n",
              "name                   0\n",
              "urlslug                0\n",
              "ID                  2013\n",
              "ALIGN                601\n",
              "EYE                 3628\n",
              "HAIR                2274\n",
              "SEX                  125\n",
              "ALIVE                  3\n",
              "APPEARANCES          355\n",
              "FIRST APPEARANCE      69\n",
              "YEAR                  69\n",
              "dtype: int64"
            ]
          },
          "metadata": {
            "tags": []
          },
          "execution_count": 6
        }
      ]
    },
    {
      "cell_type": "markdown",
      "metadata": {
        "id": "ZdZ5Iz9B3gHp",
        "colab_type": "text"
      },
      "source": [
        "Пропуски в категориальном признаке `ALIGN` заменим константным значением `Unknown`."
      ]
    },
    {
      "cell_type": "code",
      "metadata": {
        "id": "OEB5tlUpwORf",
        "colab_type": "code",
        "colab": {}
      },
      "source": [
        "from sklearn.impute import SimpleImputer\n",
        "imp = SimpleImputer(missing_values=np.nan, strategy='constant', fill_value='Unknown')\n",
        "# Замена исходного столбца на столбец с импутированными пропусками\n",
        "df1['ALIGN'] = imp.fit_transform(df1[['ALIGN']])"
      ],
      "execution_count": 0,
      "outputs": []
    },
    {
      "cell_type": "markdown",
      "metadata": {
        "id": "GfmhjS94kchk",
        "colab_type": "text"
      },
      "source": [
        "Для количественного признака `Year` (отсутвующих значений - 1%) сгенерируем описательную статистику, а также построим `boxplot`, чтобы подобрать наиболее подходящую стратегию обработки пропусков."
      ]
    },
    {
      "cell_type": "code",
      "metadata": {
        "id": "mgRJYHR2lL0w",
        "colab_type": "code",
        "outputId": "74b5b59d-bba9-4d46-bc63-098ab0e80432",
        "colab": {
          "base_uri": "https://localhost:8080/",
          "height": 168
        }
      },
      "source": [
        "df1['YEAR'].describe()"
      ],
      "execution_count": 8,
      "outputs": [
        {
          "output_type": "execute_result",
          "data": {
            "text/plain": [
              "count    6827.000000\n",
              "mean     1989.766662\n",
              "std        16.824194\n",
              "min      1935.000000\n",
              "25%      1983.000000\n",
              "50%      1992.000000\n",
              "75%      2003.000000\n",
              "max      2013.000000\n",
              "Name: YEAR, dtype: float64"
            ]
          },
          "metadata": {
            "tags": []
          },
          "execution_count": 8
        }
      ]
    },
    {
      "cell_type": "code",
      "metadata": {
        "id": "63JnQxm4oi4q",
        "colab_type": "code",
        "outputId": "475d009b-e3c1-45a8-a794-3b270af45a15",
        "colab": {
          "base_uri": "https://localhost:8080/",
          "height": 218
        }
      },
      "source": [
        "df1['YEAR'].value_counts()"
      ],
      "execution_count": 9,
      "outputs": [
        {
          "output_type": "execute_result",
          "data": {
            "text/plain": [
              "2006.0    303\n",
              "1988.0    286\n",
              "2010.0    279\n",
              "1989.0    266\n",
              "1987.0    254\n",
              "         ... \n",
              "1952.0      5\n",
              "1937.0      4\n",
              "1935.0      1\n",
              "1953.0      1\n",
              "2013.0      1\n",
              "Name: YEAR, Length: 79, dtype: int64"
            ]
          },
          "metadata": {
            "tags": []
          },
          "execution_count": 9
        }
      ]
    },
    {
      "cell_type": "code",
      "metadata": {
        "id": "zO_qKlwUljSn",
        "colab_type": "code",
        "outputId": "b01450e5-d718-44ff-e869-7fdbfed6643f",
        "colab": {
          "base_uri": "https://localhost:8080/",
          "height": 296
        }
      },
      "source": [
        "sns.boxplot(x=df1['YEAR'])"
      ],
      "execution_count": 10,
      "outputs": [
        {
          "output_type": "execute_result",
          "data": {
            "text/plain": [
              "<matplotlib.axes._subplots.AxesSubplot at 0x7f93f181fe80>"
            ]
          },
          "metadata": {
            "tags": []
          },
          "execution_count": 10
        },
        {
          "output_type": "display_data",
          "data": {
            "image/png": "[encoded data removed]",
            "text/plain": [
              "<Figure size 432x288 with 1 Axes>"
            ]
          },
          "metadata": {
            "tags": [],
            "needs_background": "light"
          }
        }
      ]
    },
    {
      "cell_type": "markdown",
      "metadata": {
        "id": "Suf8rBmPljGT",
        "colab_type": "text"
      },
      "source": [
        "Половина всех значений признака лежит на отрезке [1983, 2003]. Медиана признака `YEAR` равна 1992."
      ]
    },
    {
      "cell_type": "code",
      "metadata": {
        "id": "KGBISj5pptZQ",
        "colab_type": "code",
        "outputId": "d73ee7a2-5599-4803-9615-4a609b224b89",
        "colab": {
          "base_uri": "https://localhost:8080/",
          "height": 296
        }
      },
      "source": [
        "sns.distplot(df1['YEAR'], bins=79)"
      ],
      "execution_count": 11,
      "outputs": [
        {
          "output_type": "execute_result",
          "data": {
            "text/plain": [
              "<matplotlib.axes._subplots.AxesSubplot at 0x7f93ee155470>"
            ]
          },
          "metadata": {
            "tags": []
          },
          "execution_count": 11
        },
        {
          "output_type": "display_data",
          "data": {
            "image/png": "[encoded data removed]",
            "text/plain": [
              "<Figure size 432x288 with 1 Axes>"
            ]
          },
          "metadata": {
            "tags": [],
            "needs_background": "light"
          }
        }
      ]
    },
    {
      "cell_type": "markdown",
      "metadata": {
        "id": "t2hBhVz3Hun9",
        "colab_type": "text"
      },
      "source": [
        "Заполним пропуски медаинным значением."
      ]
    },
    {
      "cell_type": "code",
      "metadata": {
        "id": "nObwwRZmH0LI",
        "colab_type": "code",
        "colab": {}
      },
      "source": [
        "# Медиана\n",
        "med = df1['YEAR'].median()"
      ],
      "execution_count": 0,
      "outputs": []
    },
    {
      "cell_type": "code",
      "metadata": {
        "id": "QPStdyLgH3U0",
        "colab_type": "code",
        "outputId": "e2bea338-8ae2-45cb-c1e7-74a1b98109b1",
        "colab": {
          "base_uri": "https://localhost:8080/",
          "height": 118
        }
      },
      "source": [
        "df1['YEAR'].tail()"
      ],
      "execution_count": 13,
      "outputs": [
        {
          "output_type": "execute_result",
          "data": {
            "text/plain": [
              "6891   NaN\n",
              "6892   NaN\n",
              "6893   NaN\n",
              "6894   NaN\n",
              "6895   NaN\n",
              "Name: YEAR, dtype: float64"
            ]
          },
          "metadata": {
            "tags": []
          },
          "execution_count": 13
        }
      ]
    },
    {
      "cell_type": "code",
      "metadata": {
        "id": "BBj7qhrLHCYw",
        "colab_type": "code",
        "outputId": "411686a5-110e-4c93-89bc-5b21258649c5",
        "colab": {
          "base_uri": "https://localhost:8080/",
          "height": 118
        }
      },
      "source": [
        "# Заполнение пропусков\n",
        "df1['YEAR'] = df1['YEAR'].fillna(value=med)\n",
        "df1['YEAR'].tail()"
      ],
      "execution_count": 14,
      "outputs": [
        {
          "output_type": "execute_result",
          "data": {
            "text/plain": [
              "6891    1992.0\n",
              "6892    1992.0\n",
              "6893    1992.0\n",
              "6894    1992.0\n",
              "6895    1992.0\n",
              "Name: YEAR, dtype: float64"
            ]
          },
          "metadata": {
            "tags": []
          },
          "execution_count": 14
        }
      ]
    },
    {
      "cell_type": "code",
      "metadata": {
        "id": "mIJy8EZI6KTO",
        "colab_type": "code",
        "colab": {}
      },
      "source": [
        "med = df1['APPEARANCES'].median()\n",
        "df1['APPEARANCES'] = df1['APPEARANCES'].fillna(value=med)"
      ],
      "execution_count": 0,
      "outputs": []
    },
    {
      "cell_type": "markdown",
      "metadata": {
        "id": "o9rSpkWYrygG",
        "colab_type": "text"
      },
      "source": [
        "# Кодирование категориальных признаков"
      ]
    },
    {
      "cell_type": "markdown",
      "metadata": {
        "id": "jLqkAPvqr4p9",
        "colab_type": "text"
      },
      "source": [
        "Определим количество всех возможных категорий для каждого признака."
      ]
    },
    {
      "cell_type": "code",
      "metadata": {
        "id": "0fgO02dnrIOW",
        "colab_type": "code",
        "colab": {
          "base_uri": "https://localhost:8080/",
          "height": 235
        },
        "outputId": "cf6e1868-89b4-41d8-e488-592450ca3961"
      },
      "source": [
        "# Количество категорий по признакам\n",
        "df1.nunique()"
      ],
      "execution_count": 16,
      "outputs": [
        {
          "output_type": "execute_result",
          "data": {
            "text/plain": [
              "page_id             6896\n",
              "name                6896\n",
              "urlslug             6896\n",
              "ID                     3\n",
              "ALIGN                  5\n",
              "EYE                   17\n",
              "HAIR                  17\n",
              "SEX                    4\n",
              "ALIVE                  2\n",
              "APPEARANCES          282\n",
              "FIRST APPEARANCE     774\n",
              "YEAR                  79\n",
              "dtype: int64"
            ]
          },
          "metadata": {
            "tags": []
          },
          "execution_count": 16
        }
      ]
    },
    {
      "cell_type": "markdown",
      "metadata": {
        "id": "kyCSmMaPswi7",
        "colab_type": "text"
      },
      "source": [
        "Для признака `ALIGN` определено всего пять категорий. Для его кодирования подойдёт метод **one-shot encoding**."
      ]
    },
    {
      "cell_type": "code",
      "metadata": {
        "id": "YbSsv7t0sxM4",
        "colab_type": "code",
        "colab": {
          "base_uri": "https://localhost:8080/",
          "height": 50
        },
        "outputId": "3b332f92-c5bf-41b1-e23c-6c21d57fab57"
      },
      "source": [
        "# Категории признака ALIGN\n",
        "df1['ALIGN'].unique()"
      ],
      "execution_count": 17,
      "outputs": [
        {
          "output_type": "execute_result",
          "data": {
            "text/plain": [
              "array(['Good Characters', 'Bad Characters', 'Neutral Characters',\n",
              "       'Unknown', 'Reformed Criminals'], dtype=object)"
            ]
          },
          "metadata": {
            "tags": []
          },
          "execution_count": 17
        }
      ]
    },
    {
      "cell_type": "code",
      "metadata": {
        "id": "Y_bFSS_KtRlG",
        "colab_type": "code",
        "colab": {
          "base_uri": "https://localhost:8080/",
          "height": 34
        },
        "outputId": "d9167f46-fe49-49e6-8200-79234c7ad4a4"
      },
      "source": [
        "from sklearn.preprocessing import OneHotEncoder\n",
        "ohe = OneHotEncoder()\n",
        "enc_cat = df1[['ALIGN']]\n",
        "enc_cat.shape"
      ],
      "execution_count": 18,
      "outputs": [
        {
          "output_type": "execute_result",
          "data": {
            "text/plain": [
              "(6896, 1)"
            ]
          },
          "metadata": {
            "tags": []
          },
          "execution_count": 18
        }
      ]
    },
    {
      "cell_type": "code",
      "metadata": {
        "id": "OSVfW8wayWeN",
        "colab_type": "code",
        "colab": {
          "base_uri": "https://localhost:8080/",
          "height": 402
        },
        "outputId": "39219a19-e289-49bd-a72d-ea7d7976fe77"
      },
      "source": [
        "ohe_enc_cat = ohe.fit_transform(enc_cat)\n",
        "df3 = pd.DataFrame(ohe_enc_cat.todense(), columns=df1['ALIGN'].unique())\n",
        "df3"
      ],
      "execution_count": 19,
      "outputs": [
        {
          "output_type": "execute_result",
          "data": {
            "text/html": [
              "<div>\n",
              "<style scoped>\n",
              "    .dataframe tbody tr th:only-of-type {\n",
              "        vertical-align: middle;\n",
              "    }\n",
              "\n",
              "    .dataframe tbody tr th {\n",
              "        vertical-align: top;\n",
              "    }\n",
              "\n",
              "    .dataframe thead th {\n",
              "        text-align: right;\n",
              "    }\n",
              "</style>\n",
              "<table border=\"1\" class=\"dataframe\">\n",
              "  <thead>\n",
              "    <tr style=\"text-align: right;\">\n",
              "      <th></th>\n",
              "      <th>Good Characters</th>\n",
              "      <th>Bad Characters</th>\n",
              "      <th>Neutral Characters</th>\n",
              "      <th>Unknown</th>\n",
              "      <th>Reformed Criminals</th>\n",
              "    </tr>\n",
              "  </thead>\n",
              "  <tbody>\n",
              "    <tr>\n",
              "      <th>0</th>\n",
              "      <td>0.0</td>\n",
              "      <td>1.0</td>\n",
              "      <td>0.0</td>\n",
              "      <td>0.0</td>\n",
              "      <td>0.0</td>\n",
              "    </tr>\n",
              "    <tr>\n",
              "      <th>1</th>\n",
              "      <td>0.0</td>\n",
              "      <td>1.0</td>\n",
              "      <td>0.0</td>\n",
              "      <td>0.0</td>\n",
              "      <td>0.0</td>\n",
              "    </tr>\n",
              "    <tr>\n",
              "      <th>2</th>\n",
              "      <td>0.0</td>\n",
              "      <td>1.0</td>\n",
              "      <td>0.0</td>\n",
              "      <td>0.0</td>\n",
              "      <td>0.0</td>\n",
              "    </tr>\n",
              "    <tr>\n",
              "      <th>3</th>\n",
              "      <td>0.0</td>\n",
              "      <td>1.0</td>\n",
              "      <td>0.0</td>\n",
              "      <td>0.0</td>\n",
              "      <td>0.0</td>\n",
              "    </tr>\n",
              "    <tr>\n",
              "      <th>4</th>\n",
              "      <td>0.0</td>\n",
              "      <td>1.0</td>\n",
              "      <td>0.0</td>\n",
              "      <td>0.0</td>\n",
              "      <td>0.0</td>\n",
              "    </tr>\n",
              "    <tr>\n",
              "      <th>...</th>\n",
              "      <td>...</td>\n",
              "      <td>...</td>\n",
              "      <td>...</td>\n",
              "      <td>...</td>\n",
              "      <td>...</td>\n",
              "    </tr>\n",
              "    <tr>\n",
              "      <th>6891</th>\n",
              "      <td>0.0</td>\n",
              "      <td>1.0</td>\n",
              "      <td>0.0</td>\n",
              "      <td>0.0</td>\n",
              "      <td>0.0</td>\n",
              "    </tr>\n",
              "    <tr>\n",
              "      <th>6892</th>\n",
              "      <td>0.0</td>\n",
              "      <td>1.0</td>\n",
              "      <td>0.0</td>\n",
              "      <td>0.0</td>\n",
              "      <td>0.0</td>\n",
              "    </tr>\n",
              "    <tr>\n",
              "      <th>6893</th>\n",
              "      <td>0.0</td>\n",
              "      <td>1.0</td>\n",
              "      <td>0.0</td>\n",
              "      <td>0.0</td>\n",
              "      <td>0.0</td>\n",
              "    </tr>\n",
              "    <tr>\n",
              "      <th>6894</th>\n",
              "      <td>0.0</td>\n",
              "      <td>1.0</td>\n",
              "      <td>0.0</td>\n",
              "      <td>0.0</td>\n",
              "      <td>0.0</td>\n",
              "    </tr>\n",
              "    <tr>\n",
              "      <th>6895</th>\n",
              "      <td>1.0</td>\n",
              "      <td>0.0</td>\n",
              "      <td>0.0</td>\n",
              "      <td>0.0</td>\n",
              "      <td>0.0</td>\n",
              "    </tr>\n",
              "  </tbody>\n",
              "</table>\n",
              "<p>6896 rows × 5 columns</p>\n",
              "</div>"
            ],
            "text/plain": [
              "      Good Characters  Bad Characters  ...  Unknown  Reformed Criminals\n",
              "0                 0.0             1.0  ...      0.0                 0.0\n",
              "1                 0.0             1.0  ...      0.0                 0.0\n",
              "2                 0.0             1.0  ...      0.0                 0.0\n",
              "3                 0.0             1.0  ...      0.0                 0.0\n",
              "4                 0.0             1.0  ...      0.0                 0.0\n",
              "...               ...             ...  ...      ...                 ...\n",
              "6891              0.0             1.0  ...      0.0                 0.0\n",
              "6892              0.0             1.0  ...      0.0                 0.0\n",
              "6893              0.0             1.0  ...      0.0                 0.0\n",
              "6894              0.0             1.0  ...      0.0                 0.0\n",
              "6895              1.0             0.0  ...      0.0                 0.0\n",
              "\n",
              "[6896 rows x 5 columns]"
            ]
          },
          "metadata": {
            "tags": []
          },
          "execution_count": 19
        }
      ]
    },
    {
      "cell_type": "code",
      "metadata": {
        "id": "CU_n_-l01S1x",
        "colab_type": "code",
        "colab": {
          "base_uri": "https://localhost:8080/",
          "height": 892
        },
        "outputId": "fb44556c-8718-48de-97ba-b2159308a286"
      },
      "source": [
        "# Добавление новых признаков в датасет\n",
        "df1 = df1.join(df3)\n",
        "df1"
      ],
      "execution_count": 20,
      "outputs": [
        {
          "output_type": "execute_result",
          "data": {
            "text/html": [
              "<div>\n",
              "<style scoped>\n",
              "    .dataframe tbody tr th:only-of-type {\n",
              "        vertical-align: middle;\n",
              "    }\n",
              "\n",
              "    .dataframe tbody tr th {\n",
              "        vertical-align: top;\n",
              "    }\n",
              "\n",
              "    .dataframe thead th {\n",
              "        text-align: right;\n",
              "    }\n",
              "</style>\n",
              "<table border=\"1\" class=\"dataframe\">\n",
              "  <thead>\n",
              "    <tr style=\"text-align: right;\">\n",
              "      <th></th>\n",
              "      <th>page_id</th>\n",
              "      <th>name</th>\n",
              "      <th>urlslug</th>\n",
              "      <th>ID</th>\n",
              "      <th>ALIGN</th>\n",
              "      <th>EYE</th>\n",
              "      <th>HAIR</th>\n",
              "      <th>SEX</th>\n",
              "      <th>ALIVE</th>\n",
              "      <th>APPEARANCES</th>\n",
              "      <th>FIRST APPEARANCE</th>\n",
              "      <th>YEAR</th>\n",
              "      <th>Good Characters</th>\n",
              "      <th>Bad Characters</th>\n",
              "      <th>Neutral Characters</th>\n",
              "      <th>Unknown</th>\n",
              "      <th>Reformed Criminals</th>\n",
              "    </tr>\n",
              "  </thead>\n",
              "  <tbody>\n",
              "    <tr>\n",
              "      <th>0</th>\n",
              "      <td>1422</td>\n",
              "      <td>Batman (Bruce Wayne)</td>\n",
              "      <td>\\/wiki\\/Batman_(Bruce_Wayne)</td>\n",
              "      <td>Secret Identity</td>\n",
              "      <td>Good Characters</td>\n",
              "      <td>Blue Eyes</td>\n",
              "      <td>Black Hair</td>\n",
              "      <td>Male Characters</td>\n",
              "      <td>Living Characters</td>\n",
              "      <td>3093.0</td>\n",
              "      <td>1939, May</td>\n",
              "      <td>1939.0</td>\n",
              "      <td>0.0</td>\n",
              "      <td>1.0</td>\n",
              "      <td>0.0</td>\n",
              "      <td>0.0</td>\n",
              "      <td>0.0</td>\n",
              "    </tr>\n",
              "    <tr>\n",
              "      <th>1</th>\n",
              "      <td>23387</td>\n",
              "      <td>Superman (Clark Kent)</td>\n",
              "      <td>\\/wiki\\/Superman_(Clark_Kent)</td>\n",
              "      <td>Secret Identity</td>\n",
              "      <td>Good Characters</td>\n",
              "      <td>Blue Eyes</td>\n",
              "      <td>Black Hair</td>\n",
              "      <td>Male Characters</td>\n",
              "      <td>Living Characters</td>\n",
              "      <td>2496.0</td>\n",
              "      <td>1986, October</td>\n",
              "      <td>1986.0</td>\n",
              "      <td>0.0</td>\n",
              "      <td>1.0</td>\n",
              "      <td>0.0</td>\n",
              "      <td>0.0</td>\n",
              "      <td>0.0</td>\n",
              "    </tr>\n",
              "    <tr>\n",
              "      <th>2</th>\n",
              "      <td>1458</td>\n",
              "      <td>Green Lantern (Hal Jordan)</td>\n",
              "      <td>\\/wiki\\/Green_Lantern_(Hal_Jordan)</td>\n",
              "      <td>Secret Identity</td>\n",
              "      <td>Good Characters</td>\n",
              "      <td>Brown Eyes</td>\n",
              "      <td>Brown Hair</td>\n",
              "      <td>Male Characters</td>\n",
              "      <td>Living Characters</td>\n",
              "      <td>1565.0</td>\n",
              "      <td>1959, October</td>\n",
              "      <td>1959.0</td>\n",
              "      <td>0.0</td>\n",
              "      <td>1.0</td>\n",
              "      <td>0.0</td>\n",
              "      <td>0.0</td>\n",
              "      <td>0.0</td>\n",
              "    </tr>\n",
              "    <tr>\n",
              "      <th>3</th>\n",
              "      <td>1659</td>\n",
              "      <td>James Gordon (New Earth)</td>\n",
              "      <td>\\/wiki\\/James_Gordon_(New_Earth)</td>\n",
              "      <td>Public Identity</td>\n",
              "      <td>Good Characters</td>\n",
              "      <td>Brown Eyes</td>\n",
              "      <td>White Hair</td>\n",
              "      <td>Male Characters</td>\n",
              "      <td>Living Characters</td>\n",
              "      <td>1316.0</td>\n",
              "      <td>1987, February</td>\n",
              "      <td>1987.0</td>\n",
              "      <td>0.0</td>\n",
              "      <td>1.0</td>\n",
              "      <td>0.0</td>\n",
              "      <td>0.0</td>\n",
              "      <td>0.0</td>\n",
              "    </tr>\n",
              "    <tr>\n",
              "      <th>4</th>\n",
              "      <td>1576</td>\n",
              "      <td>Richard Grayson (New Earth)</td>\n",
              "      <td>\\/wiki\\/Richard_Grayson_(New_Earth)</td>\n",
              "      <td>Secret Identity</td>\n",
              "      <td>Good Characters</td>\n",
              "      <td>Blue Eyes</td>\n",
              "      <td>Black Hair</td>\n",
              "      <td>Male Characters</td>\n",
              "      <td>Living Characters</td>\n",
              "      <td>1237.0</td>\n",
              "      <td>1940, April</td>\n",
              "      <td>1940.0</td>\n",
              "      <td>0.0</td>\n",
              "      <td>1.0</td>\n",
              "      <td>0.0</td>\n",
              "      <td>0.0</td>\n",
              "      <td>0.0</td>\n",
              "    </tr>\n",
              "    <tr>\n",
              "      <th>...</th>\n",
              "      <td>...</td>\n",
              "      <td>...</td>\n",
              "      <td>...</td>\n",
              "      <td>...</td>\n",
              "      <td>...</td>\n",
              "      <td>...</td>\n",
              "      <td>...</td>\n",
              "      <td>...</td>\n",
              "      <td>...</td>\n",
              "      <td>...</td>\n",
              "      <td>...</td>\n",
              "      <td>...</td>\n",
              "      <td>...</td>\n",
              "      <td>...</td>\n",
              "      <td>...</td>\n",
              "      <td>...</td>\n",
              "      <td>...</td>\n",
              "    </tr>\n",
              "    <tr>\n",
              "      <th>6891</th>\n",
              "      <td>66302</td>\n",
              "      <td>Nadine West (New Earth)</td>\n",
              "      <td>\\/wiki\\/Nadine_West_(New_Earth)</td>\n",
              "      <td>Public Identity</td>\n",
              "      <td>Good Characters</td>\n",
              "      <td>NaN</td>\n",
              "      <td>NaN</td>\n",
              "      <td>Female Characters</td>\n",
              "      <td>Living Characters</td>\n",
              "      <td>6.0</td>\n",
              "      <td>NaN</td>\n",
              "      <td>1992.0</td>\n",
              "      <td>0.0</td>\n",
              "      <td>1.0</td>\n",
              "      <td>0.0</td>\n",
              "      <td>0.0</td>\n",
              "      <td>0.0</td>\n",
              "    </tr>\n",
              "    <tr>\n",
              "      <th>6892</th>\n",
              "      <td>283475</td>\n",
              "      <td>Warren Harding (New Earth)</td>\n",
              "      <td>\\/wiki\\/Warren_Harding_(New_Earth)</td>\n",
              "      <td>Public Identity</td>\n",
              "      <td>Good Characters</td>\n",
              "      <td>NaN</td>\n",
              "      <td>NaN</td>\n",
              "      <td>Male Characters</td>\n",
              "      <td>Living Characters</td>\n",
              "      <td>6.0</td>\n",
              "      <td>NaN</td>\n",
              "      <td>1992.0</td>\n",
              "      <td>0.0</td>\n",
              "      <td>1.0</td>\n",
              "      <td>0.0</td>\n",
              "      <td>0.0</td>\n",
              "      <td>0.0</td>\n",
              "    </tr>\n",
              "    <tr>\n",
              "      <th>6893</th>\n",
              "      <td>283478</td>\n",
              "      <td>William Harrison (New Earth)</td>\n",
              "      <td>\\/wiki\\/William_Harrison_(New_Earth)</td>\n",
              "      <td>Public Identity</td>\n",
              "      <td>Good Characters</td>\n",
              "      <td>NaN</td>\n",
              "      <td>NaN</td>\n",
              "      <td>Male Characters</td>\n",
              "      <td>Living Characters</td>\n",
              "      <td>6.0</td>\n",
              "      <td>NaN</td>\n",
              "      <td>1992.0</td>\n",
              "      <td>0.0</td>\n",
              "      <td>1.0</td>\n",
              "      <td>0.0</td>\n",
              "      <td>0.0</td>\n",
              "      <td>0.0</td>\n",
              "    </tr>\n",
              "    <tr>\n",
              "      <th>6894</th>\n",
              "      <td>283471</td>\n",
              "      <td>William McKinley (New Earth)</td>\n",
              "      <td>\\/wiki\\/William_McKinley_(New_Earth)</td>\n",
              "      <td>Public Identity</td>\n",
              "      <td>Good Characters</td>\n",
              "      <td>NaN</td>\n",
              "      <td>NaN</td>\n",
              "      <td>Male Characters</td>\n",
              "      <td>Living Characters</td>\n",
              "      <td>6.0</td>\n",
              "      <td>NaN</td>\n",
              "      <td>1992.0</td>\n",
              "      <td>0.0</td>\n",
              "      <td>1.0</td>\n",
              "      <td>0.0</td>\n",
              "      <td>0.0</td>\n",
              "      <td>0.0</td>\n",
              "    </tr>\n",
              "    <tr>\n",
              "      <th>6895</th>\n",
              "      <td>150660</td>\n",
              "      <td>Mookie (New Earth)</td>\n",
              "      <td>\\/wiki\\/Mookie_(New_Earth)</td>\n",
              "      <td>Public Identity</td>\n",
              "      <td>Bad Characters</td>\n",
              "      <td>Blue Eyes</td>\n",
              "      <td>Blond Hair</td>\n",
              "      <td>Male Characters</td>\n",
              "      <td>Living Characters</td>\n",
              "      <td>6.0</td>\n",
              "      <td>NaN</td>\n",
              "      <td>1992.0</td>\n",
              "      <td>1.0</td>\n",
              "      <td>0.0</td>\n",
              "      <td>0.0</td>\n",
              "      <td>0.0</td>\n",
              "      <td>0.0</td>\n",
              "    </tr>\n",
              "  </tbody>\n",
              "</table>\n",
              "<p>6896 rows × 17 columns</p>\n",
              "</div>"
            ],
            "text/plain": [
              "      page_id                          name  ... Unknown Reformed Criminals\n",
              "0        1422          Batman (Bruce Wayne)  ...     0.0                0.0\n",
              "1       23387         Superman (Clark Kent)  ...     0.0                0.0\n",
              "2        1458    Green Lantern (Hal Jordan)  ...     0.0                0.0\n",
              "3        1659      James Gordon (New Earth)  ...     0.0                0.0\n",
              "4        1576   Richard Grayson (New Earth)  ...     0.0                0.0\n",
              "...       ...                           ...  ...     ...                ...\n",
              "6891    66302       Nadine West (New Earth)  ...     0.0                0.0\n",
              "6892   283475    Warren Harding (New Earth)  ...     0.0                0.0\n",
              "6893   283478  William Harrison (New Earth)  ...     0.0                0.0\n",
              "6894   283471  William McKinley (New Earth)  ...     0.0                0.0\n",
              "6895   150660            Mookie (New Earth)  ...     0.0                0.0\n",
              "\n",
              "[6896 rows x 17 columns]"
            ]
          },
          "metadata": {
            "tags": []
          },
          "execution_count": 20
        }
      ]
    },
    {
      "cell_type": "code",
      "metadata": {
        "id": "t9eAE3Pk3-sw",
        "colab_type": "code",
        "colab": {}
      },
      "source": [
        "# Удаление признака ALIGN\n",
        "del df1['ALIGN']"
      ],
      "execution_count": 0,
      "outputs": []
    },
    {
      "cell_type": "markdown",
      "metadata": {
        "id": "b4sn-uxB3W_v",
        "colab_type": "text"
      },
      "source": [
        "# Масштабирование данных\n"
      ]
    },
    {
      "cell_type": "markdown",
      "metadata": {
        "id": "IdOw8J5X4Qwi",
        "colab_type": "text"
      },
      "source": [
        "Масштабированию подлежит количественный признак `APPEARANCES`. Используем метод масштабирования по **Z-оценке**."
      ]
    },
    {
      "cell_type": "code",
      "metadata": {
        "id": "xTYTUKoM4WCD",
        "colab_type": "code",
        "colab": {
          "base_uri": "https://localhost:8080/",
          "height": 296
        },
        "outputId": "a970a650-a94e-45d6-8ebb-c4d71b054792"
      },
      "source": [
        "sns.distplot(df1['APPEARANCES'], hist=False, bins=100)"
      ],
      "execution_count": 22,
      "outputs": [
        {
          "output_type": "execute_result",
          "data": {
            "text/plain": [
              "<matplotlib.axes._subplots.AxesSubplot at 0x7f93edbee1d0>"
            ]
          },
          "metadata": {
            "tags": []
          },
          "execution_count": 22
        },
        {
          "output_type": "display_data",
          "data": {
            "image/png": "[encoded data removed]",
            "text/plain": [
              "<Figure size 432x288 with 1 Axes>"
            ]
          },
          "metadata": {
            "tags": [],
            "needs_background": "light"
          }
        }
      ]
    },
    {
      "cell_type": "code",
      "metadata": {
        "id": "b5wFZ-4C4_Ym",
        "colab_type": "code",
        "colab": {
          "base_uri": "https://localhost:8080/",
          "height": 282
        },
        "outputId": "a9a67735-511d-4735-a418-8a3dbbd25a17"
      },
      "source": [
        "from sklearn.preprocessing import StandardScaler\n",
        "scaler = StandardScaler()\n",
        "scaled_data = scaler.fit_transform(df1[['APPEARANCES']])\n",
        "sns.distplot(scaled_data, hist=False, bins=100)"
      ],
      "execution_count": 23,
      "outputs": [
        {
          "output_type": "execute_result",
          "data": {
            "text/plain": [
              "<matplotlib.axes._subplots.AxesSubplot at 0x7f93edafa780>"
            ]
          },
          "metadata": {
            "tags": []
          },
          "execution_count": 23
        },
        {
          "output_type": "display_data",
          "data": {
            "image/png": "[encoded data removed]",
            "text/plain": [
              "<Figure size 432x288 with 1 Axes>"
            ]
          },
          "metadata": {
            "tags": [],
            "needs_background": "light"
          }
        }
      ]
    },
    {
      "cell_type": "code",
      "metadata": {
        "id": "bSRGMekf5ftU",
        "colab_type": "code",
        "colab": {
          "base_uri": "https://localhost:8080/",
          "height": 892
        },
        "outputId": "391c5700-37d0-4409-94a5-415f69f11c2f"
      },
      "source": [
        "df1['APPEARANCES'] = scaled_data\n",
        "df1"
      ],
      "execution_count": 24,
      "outputs": [
        {
          "output_type": "execute_result",
          "data": {
            "text/html": [
              "<div>\n",
              "<style scoped>\n",
              "    .dataframe tbody tr th:only-of-type {\n",
              "        vertical-align: middle;\n",
              "    }\n",
              "\n",
              "    .dataframe tbody tr th {\n",
              "        vertical-align: top;\n",
              "    }\n",
              "\n",
              "    .dataframe thead th {\n",
              "        text-align: right;\n",
              "    }\n",
              "</style>\n",
              "<table border=\"1\" class=\"dataframe\">\n",
              "  <thead>\n",
              "    <tr style=\"text-align: right;\">\n",
              "      <th></th>\n",
              "      <th>page_id</th>\n",
              "      <th>name</th>\n",
              "      <th>urlslug</th>\n",
              "      <th>ID</th>\n",
              "      <th>EYE</th>\n",
              "      <th>HAIR</th>\n",
              "      <th>SEX</th>\n",
              "      <th>ALIVE</th>\n",
              "      <th>APPEARANCES</th>\n",
              "      <th>FIRST APPEARANCE</th>\n",
              "      <th>YEAR</th>\n",
              "      <th>Good Characters</th>\n",
              "      <th>Bad Characters</th>\n",
              "      <th>Neutral Characters</th>\n",
              "      <th>Unknown</th>\n",
              "      <th>Reformed Criminals</th>\n",
              "    </tr>\n",
              "  </thead>\n",
              "  <tbody>\n",
              "    <tr>\n",
              "      <th>0</th>\n",
              "      <td>1422</td>\n",
              "      <td>Batman (Bruce Wayne)</td>\n",
              "      <td>\\/wiki\\/Batman_(Bruce_Wayne)</td>\n",
              "      <td>Secret Identity</td>\n",
              "      <td>Blue Eyes</td>\n",
              "      <td>Black Hair</td>\n",
              "      <td>Male Characters</td>\n",
              "      <td>Living Characters</td>\n",
              "      <td>36.043670</td>\n",
              "      <td>1939, May</td>\n",
              "      <td>1939.0</td>\n",
              "      <td>0.0</td>\n",
              "      <td>1.0</td>\n",
              "      <td>0.0</td>\n",
              "      <td>0.0</td>\n",
              "      <td>0.0</td>\n",
              "    </tr>\n",
              "    <tr>\n",
              "      <th>1</th>\n",
              "      <td>23387</td>\n",
              "      <td>Superman (Clark Kent)</td>\n",
              "      <td>\\/wiki\\/Superman_(Clark_Kent)</td>\n",
              "      <td>Secret Identity</td>\n",
              "      <td>Blue Eyes</td>\n",
              "      <td>Black Hair</td>\n",
              "      <td>Male Characters</td>\n",
              "      <td>Living Characters</td>\n",
              "      <td>29.035170</td>\n",
              "      <td>1986, October</td>\n",
              "      <td>1986.0</td>\n",
              "      <td>0.0</td>\n",
              "      <td>1.0</td>\n",
              "      <td>0.0</td>\n",
              "      <td>0.0</td>\n",
              "      <td>0.0</td>\n",
              "    </tr>\n",
              "    <tr>\n",
              "      <th>2</th>\n",
              "      <td>1458</td>\n",
              "      <td>Green Lantern (Hal Jordan)</td>\n",
              "      <td>\\/wiki\\/Green_Lantern_(Hal_Jordan)</td>\n",
              "      <td>Secret Identity</td>\n",
              "      <td>Brown Eyes</td>\n",
              "      <td>Brown Hair</td>\n",
              "      <td>Male Characters</td>\n",
              "      <td>Living Characters</td>\n",
              "      <td>18.105668</td>\n",
              "      <td>1959, October</td>\n",
              "      <td>1959.0</td>\n",
              "      <td>0.0</td>\n",
              "      <td>1.0</td>\n",
              "      <td>0.0</td>\n",
              "      <td>0.0</td>\n",
              "      <td>0.0</td>\n",
              "    </tr>\n",
              "    <tr>\n",
              "      <th>3</th>\n",
              "      <td>1659</td>\n",
              "      <td>James Gordon (New Earth)</td>\n",
              "      <td>\\/wiki\\/James_Gordon_(New_Earth)</td>\n",
              "      <td>Public Identity</td>\n",
              "      <td>Brown Eyes</td>\n",
              "      <td>White Hair</td>\n",
              "      <td>Male Characters</td>\n",
              "      <td>Living Characters</td>\n",
              "      <td>15.182525</td>\n",
              "      <td>1987, February</td>\n",
              "      <td>1987.0</td>\n",
              "      <td>0.0</td>\n",
              "      <td>1.0</td>\n",
              "      <td>0.0</td>\n",
              "      <td>0.0</td>\n",
              "      <td>0.0</td>\n",
              "    </tr>\n",
              "    <tr>\n",
              "      <th>4</th>\n",
              "      <td>1576</td>\n",
              "      <td>Richard Grayson (New Earth)</td>\n",
              "      <td>\\/wiki\\/Richard_Grayson_(New_Earth)</td>\n",
              "      <td>Secret Identity</td>\n",
              "      <td>Blue Eyes</td>\n",
              "      <td>Black Hair</td>\n",
              "      <td>Male Characters</td>\n",
              "      <td>Living Characters</td>\n",
              "      <td>14.255102</td>\n",
              "      <td>1940, April</td>\n",
              "      <td>1940.0</td>\n",
              "      <td>0.0</td>\n",
              "      <td>1.0</td>\n",
              "      <td>0.0</td>\n",
              "      <td>0.0</td>\n",
              "      <td>0.0</td>\n",
              "    </tr>\n",
              "    <tr>\n",
              "      <th>...</th>\n",
              "      <td>...</td>\n",
              "      <td>...</td>\n",
              "      <td>...</td>\n",
              "      <td>...</td>\n",
              "      <td>...</td>\n",
              "      <td>...</td>\n",
              "      <td>...</td>\n",
              "      <td>...</td>\n",
              "      <td>...</td>\n",
              "      <td>...</td>\n",
              "      <td>...</td>\n",
              "      <td>...</td>\n",
              "      <td>...</td>\n",
              "      <td>...</td>\n",
              "      <td>...</td>\n",
              "      <td>...</td>\n",
              "    </tr>\n",
              "    <tr>\n",
              "      <th>6891</th>\n",
              "      <td>66302</td>\n",
              "      <td>Nadine West (New Earth)</td>\n",
              "      <td>\\/wiki\\/Nadine_West_(New_Earth)</td>\n",
              "      <td>Public Identity</td>\n",
              "      <td>NaN</td>\n",
              "      <td>NaN</td>\n",
              "      <td>Female Characters</td>\n",
              "      <td>Living Characters</td>\n",
              "      <td>-0.196259</td>\n",
              "      <td>NaN</td>\n",
              "      <td>1992.0</td>\n",
              "      <td>0.0</td>\n",
              "      <td>1.0</td>\n",
              "      <td>0.0</td>\n",
              "      <td>0.0</td>\n",
              "      <td>0.0</td>\n",
              "    </tr>\n",
              "    <tr>\n",
              "      <th>6892</th>\n",
              "      <td>283475</td>\n",
              "      <td>Warren Harding (New Earth)</td>\n",
              "      <td>\\/wiki\\/Warren_Harding_(New_Earth)</td>\n",
              "      <td>Public Identity</td>\n",
              "      <td>NaN</td>\n",
              "      <td>NaN</td>\n",
              "      <td>Male Characters</td>\n",
              "      <td>Living Characters</td>\n",
              "      <td>-0.196259</td>\n",
              "      <td>NaN</td>\n",
              "      <td>1992.0</td>\n",
              "      <td>0.0</td>\n",
              "      <td>1.0</td>\n",
              "      <td>0.0</td>\n",
              "      <td>0.0</td>\n",
              "      <td>0.0</td>\n",
              "    </tr>\n",
              "    <tr>\n",
              "      <th>6893</th>\n",
              "      <td>283478</td>\n",
              "      <td>William Harrison (New Earth)</td>\n",
              "      <td>\\/wiki\\/William_Harrison_(New_Earth)</td>\n",
              "      <td>Public Identity</td>\n",
              "      <td>NaN</td>\n",
              "      <td>NaN</td>\n",
              "      <td>Male Characters</td>\n",
              "      <td>Living Characters</td>\n",
              "      <td>-0.196259</td>\n",
              "      <td>NaN</td>\n",
              "      <td>1992.0</td>\n",
              "      <td>0.0</td>\n",
              "      <td>1.0</td>\n",
              "      <td>0.0</td>\n",
              "      <td>0.0</td>\n",
              "      <td>0.0</td>\n",
              "    </tr>\n",
              "    <tr>\n",
              "      <th>6894</th>\n",
              "      <td>283471</td>\n",
              "      <td>William McKinley (New Earth)</td>\n",
              "      <td>\\/wiki\\/William_McKinley_(New_Earth)</td>\n",
              "      <td>Public Identity</td>\n",
              "      <td>NaN</td>\n",
              "      <td>NaN</td>\n",
              "      <td>Male Characters</td>\n",
              "      <td>Living Characters</td>\n",
              "      <td>-0.196259</td>\n",
              "      <td>NaN</td>\n",
              "      <td>1992.0</td>\n",
              "      <td>0.0</td>\n",
              "      <td>1.0</td>\n",
              "      <td>0.0</td>\n",
              "      <td>0.0</td>\n",
              "      <td>0.0</td>\n",
              "    </tr>\n",
              "    <tr>\n",
              "      <th>6895</th>\n",
              "      <td>150660</td>\n",
              "      <td>Mookie (New Earth)</td>\n",
              "      <td>\\/wiki\\/Mookie_(New_Earth)</td>\n",
              "      <td>Public Identity</td>\n",
              "      <td>Blue Eyes</td>\n",
              "      <td>Blond Hair</td>\n",
              "      <td>Male Characters</td>\n",
              "      <td>Living Characters</td>\n",
              "      <td>-0.196259</td>\n",
              "      <td>NaN</td>\n",
              "      <td>1992.0</td>\n",
              "      <td>1.0</td>\n",
              "      <td>0.0</td>\n",
              "      <td>0.0</td>\n",
              "      <td>0.0</td>\n",
              "      <td>0.0</td>\n",
              "    </tr>\n",
              "  </tbody>\n",
              "</table>\n",
              "<p>6896 rows × 16 columns</p>\n",
              "</div>"
            ],
            "text/plain": [
              "      page_id                          name  ... Unknown Reformed Criminals\n",
              "0        1422          Batman (Bruce Wayne)  ...     0.0                0.0\n",
              "1       23387         Superman (Clark Kent)  ...     0.0                0.0\n",
              "2        1458    Green Lantern (Hal Jordan)  ...     0.0                0.0\n",
              "3        1659      James Gordon (New Earth)  ...     0.0                0.0\n",
              "4        1576   Richard Grayson (New Earth)  ...     0.0                0.0\n",
              "...       ...                           ...  ...     ...                ...\n",
              "6891    66302       Nadine West (New Earth)  ...     0.0                0.0\n",
              "6892   283475    Warren Harding (New Earth)  ...     0.0                0.0\n",
              "6893   283478  William Harrison (New Earth)  ...     0.0                0.0\n",
              "6894   283471  William McKinley (New Earth)  ...     0.0                0.0\n",
              "6895   150660            Mookie (New Earth)  ...     0.0                0.0\n",
              "\n",
              "[6896 rows x 16 columns]"
            ]
          },
          "metadata": {
            "tags": []
          },
          "execution_count": 24
        }
      ]
    }
  ]
}