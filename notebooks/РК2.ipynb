{
  "nbformat": 4,
  "nbformat_minor": 0,
  "metadata": {
    "colab": {
      "name": "РК2.ipynb",
      "provenance": [],
      "mount_file_id": "1p1NNZU47iU641O4cHJdPq2TByLpAIpKU",
      "authorship_tag": "ABX9TyOzZ5WXql8zz+U+C1flGiAy",
      "include_colab_link": true
    },
    "kernelspec": {
      "name": "python3",
      "display_name": "Python 3"
    }
  },
  "cells": [
    {
      "cell_type": "markdown",
      "metadata": {
        "id": "view-in-github",
        "colab_type": "text"
      },
      "source": [
        "<a href=\"https://colab.research.google.com/github/Niki-KR/TMO/blob/master/notebooks/%D0%A0%D0%9A2.ipynb\" target=\"_parent\"><img src=\"https://colab.research.google.com/assets/colab-badge.svg\" alt=\"Open In Colab\"/></a>"
      ]
    },
    {
      "cell_type": "markdown",
      "metadata": {
        "id": "9ZKKXGTpcbGs",
        "colab_type": "text"
      },
      "source": [
        "#РК №2, ИУ5-63Б, Кривцов Н.А., Вариант 10 (Задача 2. Кластеризация)\n",
        "\n",
        "---\n",
        "\n",
        "Требуется провести кластерный анализ [набора данных](https://www.kaggle.com/jessemostipak/hotel-booking-demand), с использованем алгоритмов **K-means++** и **Birch**. Для сравнения результатов работы обоих алгоритмов необходимо использовать следующие метрики:\n",
        "\n",
        "1. Adjusted Rank Index\n",
        "2. Adjusted Mutual Information\n",
        "3. Homogeneity, completeness, V-measure\n",
        "4. Коэффициент силуэта\n"
      ]
    },
    {
      "cell_type": "markdown",
      "metadata": {
        "id": "AZRr4l1QetMX",
        "colab_type": "text"
      },
      "source": [
        "## Разведочный анализ и предобработка данных"
      ]
    },
    {
      "cell_type": "code",
      "metadata": {
        "id": "qEOsgN2pcNgI",
        "colab_type": "code",
        "outputId": "b791ba87-e2a7-4276-ccfb-2435d0678353",
        "colab": {
          "base_uri": "https://localhost:8080/",
          "height": 70
        }
      },
      "source": [
        "import pandas as pd\n",
        "import numpy as np\n",
        "import matplotlib.pyplot as plt\n",
        "import seaborn as sns\n",
        "from sklearn.cluster import Birch, KMeans"
      ],
      "execution_count": 1,
      "outputs": [
        {
          "output_type": "stream",
          "text": [
            "/usr/local/lib/python3.6/dist-packages/statsmodels/tools/_testing.py:19: FutureWarning: pandas.util.testing is deprecated. Use the functions in the public API at pandas.testing instead.\n",
            "  import pandas.util.testing as tm\n"
          ],
          "name": "stderr"
        }
      ]
    },
    {
      "cell_type": "code",
      "metadata": {
        "id": "9O-xdsZMdK-_",
        "colab_type": "code",
        "colab": {}
      },
      "source": [
        "df = pd.read_csv(\"/content/drive/My Drive/Colab Notebooks/hotel_bookings.csv\")"
      ],
      "execution_count": 0,
      "outputs": []
    },
    {
      "cell_type": "code",
      "metadata": {
        "id": "lk-MCagYfi0b",
        "colab_type": "code",
        "outputId": "e67a45eb-c422-412c-9a1d-a63cec693719",
        "colab": {
          "base_uri": "https://localhost:8080/",
          "height": 571
        }
      },
      "source": [
        "# Типы признаков\n",
        "df.dtypes"
      ],
      "execution_count": 3,
      "outputs": [
        {
          "output_type": "execute_result",
          "data": {
            "text/plain": [
              "hotel                              object\n",
              "is_canceled                         int64\n",
              "lead_time                           int64\n",
              "arrival_date_year                   int64\n",
              "arrival_date_month                 object\n",
              "arrival_date_week_number            int64\n",
              "arrival_date_day_of_month           int64\n",
              "stays_in_weekend_nights             int64\n",
              "stays_in_week_nights                int64\n",
              "adults                              int64\n",
              "children                          float64\n",
              "babies                              int64\n",
              "meal                               object\n",
              "country                            object\n",
              "market_segment                     object\n",
              "distribution_channel               object\n",
              "is_repeated_guest                   int64\n",
              "previous_cancellations              int64\n",
              "previous_bookings_not_canceled      int64\n",
              "reserved_room_type                 object\n",
              "assigned_room_type                 object\n",
              "booking_changes                     int64\n",
              "deposit_type                       object\n",
              "agent                             float64\n",
              "company                           float64\n",
              "days_in_waiting_list                int64\n",
              "customer_type                      object\n",
              "adr                               float64\n",
              "required_car_parking_spaces         int64\n",
              "total_of_special_requests           int64\n",
              "reservation_status                 object\n",
              "reservation_status_date            object\n",
              "dtype: object"
            ]
          },
          "metadata": {
            "tags": []
          },
          "execution_count": 3
        }
      ]
    },
    {
      "cell_type": "code",
      "metadata": {
        "id": "EiUW3E6HhRsG",
        "colab_type": "code",
        "outputId": "182cfb63-afe0-4123-a7f7-e0b1e23ed0eb",
        "colab": {
          "base_uri": "https://localhost:8080/",
          "height": 34
        }
      },
      "source": [
        "# Размерность датасета\n",
        "df.shape"
      ],
      "execution_count": 4,
      "outputs": [
        {
          "output_type": "execute_result",
          "data": {
            "text/plain": [
              "(119390, 32)"
            ]
          },
          "metadata": {
            "tags": []
          },
          "execution_count": 4
        }
      ]
    },
    {
      "cell_type": "code",
      "metadata": {
        "id": "kM9bRH-9yz_A",
        "colab_type": "code",
        "outputId": "9a04e6af-732a-46ff-dd3a-0a3eadc0c51f",
        "colab": {
          "base_uri": "https://localhost:8080/",
          "height": 571
        }
      },
      "source": [
        "df.isnull().sum()"
      ],
      "execution_count": 5,
      "outputs": [
        {
          "output_type": "execute_result",
          "data": {
            "text/plain": [
              "hotel                                  0\n",
              "is_canceled                            0\n",
              "lead_time                              0\n",
              "arrival_date_year                      0\n",
              "arrival_date_month                     0\n",
              "arrival_date_week_number               0\n",
              "arrival_date_day_of_month              0\n",
              "stays_in_weekend_nights                0\n",
              "stays_in_week_nights                   0\n",
              "adults                                 0\n",
              "children                               4\n",
              "babies                                 0\n",
              "meal                                   0\n",
              "country                              488\n",
              "market_segment                         0\n",
              "distribution_channel                   0\n",
              "is_repeated_guest                      0\n",
              "previous_cancellations                 0\n",
              "previous_bookings_not_canceled         0\n",
              "reserved_room_type                     0\n",
              "assigned_room_type                     0\n",
              "booking_changes                        0\n",
              "deposit_type                           0\n",
              "agent                              16340\n",
              "company                           112593\n",
              "days_in_waiting_list                   0\n",
              "customer_type                          0\n",
              "adr                                    0\n",
              "required_car_parking_spaces            0\n",
              "total_of_special_requests              0\n",
              "reservation_status                     0\n",
              "reservation_status_date                0\n",
              "dtype: int64"
            ]
          },
          "metadata": {
            "tags": []
          },
          "execution_count": 5
        }
      ]
    },
    {
      "cell_type": "code",
      "metadata": {
        "id": "uiuyUPrMqiEK",
        "colab_type": "code",
        "outputId": "34d526c1-bcd3-48ae-c1b1-132ddd6863df",
        "colab": {
          "base_uri": "https://localhost:8080/",
          "height": 538
        }
      },
      "source": [
        "df1 = df.drop(labels=[\"agent\", \"company\"], axis=1)\n",
        "df1 = df1.dropna()\n",
        "df1.isnull().sum()"
      ],
      "execution_count": 6,
      "outputs": [
        {
          "output_type": "execute_result",
          "data": {
            "text/plain": [
              "hotel                             0\n",
              "is_canceled                       0\n",
              "lead_time                         0\n",
              "arrival_date_year                 0\n",
              "arrival_date_month                0\n",
              "arrival_date_week_number          0\n",
              "arrival_date_day_of_month         0\n",
              "stays_in_weekend_nights           0\n",
              "stays_in_week_nights              0\n",
              "adults                            0\n",
              "children                          0\n",
              "babies                            0\n",
              "meal                              0\n",
              "country                           0\n",
              "market_segment                    0\n",
              "distribution_channel              0\n",
              "is_repeated_guest                 0\n",
              "previous_cancellations            0\n",
              "previous_bookings_not_canceled    0\n",
              "reserved_room_type                0\n",
              "assigned_room_type                0\n",
              "booking_changes                   0\n",
              "deposit_type                      0\n",
              "days_in_waiting_list              0\n",
              "customer_type                     0\n",
              "adr                               0\n",
              "required_car_parking_spaces       0\n",
              "total_of_special_requests         0\n",
              "reservation_status                0\n",
              "reservation_status_date           0\n",
              "dtype: int64"
            ]
          },
          "metadata": {
            "tags": []
          },
          "execution_count": 6
        }
      ]
    },
    {
      "cell_type": "markdown",
      "metadata": {
        "id": "nwa14io3zA5h",
        "colab_type": "text"
      },
      "source": [
        "Закодируем признак `arrival_date_month` упорядоченными целыми числами от 0 до 11 с помощью класса `sklearn.preprocessing.OrdinalEncoder`"
      ]
    },
    {
      "cell_type": "code",
      "metadata": {
        "id": "4Te6urQlpYIW",
        "colab_type": "code",
        "outputId": "1e7d8cf1-5d11-45f2-9f05-4a8cc16c5de7",
        "colab": {
          "base_uri": "https://localhost:8080/",
          "height": 235
        }
      },
      "source": [
        "from sklearn.preprocessing import OrdinalEncoder\n",
        "months = [\n",
        "          \"January\",\n",
        "          \"February\",\n",
        "          \"March\",\n",
        "          \"April\",\n",
        "          \"May\",\n",
        "          \"June\",\n",
        "          \"July\",\n",
        "          \"August\",\n",
        "          \"September\",\n",
        "          \"October\",\n",
        "          \"November\",\n",
        "          \"December\",\n",
        "]\n",
        "\n",
        "oe = OrdinalEncoder(categories=[months])\n",
        "oe.fit(df1[[\"arrival_date_month\"]])\n",
        "encoded_months = oe.transform(df1[[\"arrival_date_month\"]])\n",
        "df2 = df1.copy()\n",
        "df2[\"arrival_date_month\"] = encoded_months\n",
        "df1[\"arrival_date_month\"].value_counts()"
      ],
      "execution_count": 7,
      "outputs": [
        {
          "output_type": "execute_result",
          "data": {
            "text/plain": [
              "August       13852\n",
              "July         12628\n",
              "May          11779\n",
              "October      11095\n",
              "April        11045\n",
              "June         10927\n",
              "September    10467\n",
              "March         9739\n",
              "February      8012\n",
              "November      6752\n",
              "December      6728\n",
              "January       5874\n",
              "Name: arrival_date_month, dtype: int64"
            ]
          },
          "metadata": {
            "tags": []
          },
          "execution_count": 7
        }
      ]
    },
    {
      "cell_type": "code",
      "metadata": {
        "id": "MzxTu-m7tEdK",
        "colab_type": "code",
        "outputId": "ac70e62f-da31-4aea-9b1d-b9313cda55fa",
        "colab": {
          "base_uri": "https://localhost:8080/",
          "height": 235
        }
      },
      "source": [
        "df2[\"arrival_date_month\"].value_counts()"
      ],
      "execution_count": 8,
      "outputs": [
        {
          "output_type": "execute_result",
          "data": {
            "text/plain": [
              "7.0     13852\n",
              "6.0     12628\n",
              "4.0     11779\n",
              "9.0     11095\n",
              "3.0     11045\n",
              "5.0     10927\n",
              "8.0     10467\n",
              "2.0      9739\n",
              "1.0      8012\n",
              "10.0     6752\n",
              "11.0     6728\n",
              "0.0      5874\n",
              "Name: arrival_date_month, dtype: int64"
            ]
          },
          "metadata": {
            "tags": []
          },
          "execution_count": 8
        }
      ]
    },
    {
      "cell_type": "code",
      "metadata": {
        "id": "31zs7DxR0M6Y",
        "colab_type": "code",
        "outputId": "c71708d2-ad38-4bee-c4c3-bdd2451f3729",
        "colab": {
          "base_uri": "https://localhost:8080/",
          "height": 538
        }
      },
      "source": [
        "df2.dtypes"
      ],
      "execution_count": 9,
      "outputs": [
        {
          "output_type": "execute_result",
          "data": {
            "text/plain": [
              "hotel                              object\n",
              "is_canceled                         int64\n",
              "lead_time                           int64\n",
              "arrival_date_year                   int64\n",
              "arrival_date_month                float64\n",
              "arrival_date_week_number            int64\n",
              "arrival_date_day_of_month           int64\n",
              "stays_in_weekend_nights             int64\n",
              "stays_in_week_nights                int64\n",
              "adults                              int64\n",
              "children                          float64\n",
              "babies                              int64\n",
              "meal                               object\n",
              "country                            object\n",
              "market_segment                     object\n",
              "distribution_channel               object\n",
              "is_repeated_guest                   int64\n",
              "previous_cancellations              int64\n",
              "previous_bookings_not_canceled      int64\n",
              "reserved_room_type                 object\n",
              "assigned_room_type                 object\n",
              "booking_changes                     int64\n",
              "deposit_type                       object\n",
              "days_in_waiting_list                int64\n",
              "customer_type                      object\n",
              "adr                               float64\n",
              "required_car_parking_spaces         int64\n",
              "total_of_special_requests           int64\n",
              "reservation_status                 object\n",
              "reservation_status_date            object\n",
              "dtype: object"
            ]
          },
          "metadata": {
            "tags": []
          },
          "execution_count": 9
        }
      ]
    },
    {
      "cell_type": "code",
      "metadata": {
        "id": "-rkuFhOmzlAY",
        "colab_type": "code",
        "outputId": "d7c3ad11-8bb7-412a-ff4f-1689a7e46ca6",
        "colab": {
          "base_uri": "https://localhost:8080/",
          "height": 202
        }
      },
      "source": [
        "# Признаки, используемые для кластеризации\n",
        "features_to_use = [\n",
        "                    \"arrival_date_month\", \n",
        "                    \"arrival_date_week_number\", \n",
        "                    \"stays_in_week_nights\", \n",
        "                    \"stays_in_weekend_nights\",\n",
        "                    \"adults\",\n",
        "                    \"children\",\n",
        "                    \"babies\",\n",
        "                    \"is_repeated_guest\",\n",
        "                    \"previous_cancellations\",\n",
        "                    \"previous_bookings_not_canceled\",\n",
        "]\n",
        "data = df2[features_to_use]\n",
        "data.dtypes"
      ],
      "execution_count": 10,
      "outputs": [
        {
          "output_type": "execute_result",
          "data": {
            "text/plain": [
              "arrival_date_month                float64\n",
              "arrival_date_week_number            int64\n",
              "stays_in_week_nights                int64\n",
              "stays_in_weekend_nights             int64\n",
              "adults                              int64\n",
              "children                          float64\n",
              "babies                              int64\n",
              "is_repeated_guest                   int64\n",
              "previous_cancellations              int64\n",
              "previous_bookings_not_canceled      int64\n",
              "dtype: object"
            ]
          },
          "metadata": {
            "tags": []
          },
          "execution_count": 10
        }
      ]
    },
    {
      "cell_type": "markdown",
      "metadata": {
        "id": "k_13cRBAMtQB",
        "colab_type": "text"
      },
      "source": [
        "## K-means++"
      ]
    },
    {
      "cell_type": "code",
      "metadata": {
        "id": "epwFdLpr1Ar7",
        "colab_type": "code",
        "colab": {}
      },
      "source": [
        "kmpp = KMeans(init=\"k-means++\", n_clusters=2)\n",
        "clustered_data = kmpp.fit_predict(data)"
      ],
      "execution_count": 0,
      "outputs": []
    },
    {
      "cell_type": "code",
      "metadata": {
        "id": "Ie7zSLqvj2ql",
        "colab_type": "code",
        "colab": {
          "base_uri": "https://localhost:8080/",
          "height": 34
        },
        "outputId": "4bddbc36-133d-4176-8c07-fbe769a8e49c"
      },
      "source": [
        "clustered_data"
      ],
      "execution_count": 17,
      "outputs": [
        {
          "output_type": "execute_result",
          "data": {
            "text/plain": [
              "array([0, 0, 0, ..., 0, 0, 0], dtype=int32)"
            ]
          },
          "metadata": {
            "tags": []
          },
          "execution_count": 17
        }
      ]
    },
    {
      "cell_type": "code",
      "metadata": {
        "id": "dX0nYKml3uAG",
        "colab_type": "code",
        "colab": {}
      },
      "source": [
        "from sklearn.metrics import adjusted_rand_score, adjusted_mutual_info_score, homogeneity_completeness_v_measure, silhouette_score"
      ],
      "execution_count": 0,
      "outputs": []
    },
    {
      "cell_type": "code",
      "metadata": {
        "id": "itewyYv639Qt",
        "colab_type": "code",
        "outputId": "c70478b5-be14-4812-ee97-0f78ee467321",
        "colab": {
          "base_uri": "https://localhost:8080/",
          "height": 67
        }
      },
      "source": [
        "# Кластеризация на два кластера, в идеале соотвествующих признаку \"is_canceled\"\n",
        "print(adjusted_rand_score(df2[\"is_canceled\"], clustered_data))\n",
        "print(adjusted_mutual_info_score(df2[\"is_canceled\"], clustered_data))\n",
        "print(homogeneity_completeness_v_measure(df2[\"is_canceled\"], clustered_data))\n",
        "# print(silhouette_score(data, clustered_data))"
      ],
      "execution_count": 20,
      "outputs": [
        {
          "output_type": "stream",
          "text": [
            "6.672116493180065e-05\n",
            "1.747349294827852e-07\n",
            "(6.553937761280808e-06, 6.246751223312576e-06, 6.396658613777868e-06)\n"
          ],
          "name": "stdout"
        }
      ]
    },
    {
      "cell_type": "markdown",
      "metadata": {
        "id": "rqqvLHhdMqgx",
        "colab_type": "text"
      },
      "source": [
        "## Birch"
      ]
    },
    {
      "cell_type": "code",
      "metadata": {
        "id": "4aIfmeHSMSfz",
        "colab_type": "code",
        "colab": {
          "base_uri": "https://localhost:8080/",
          "height": 67
        },
        "outputId": "bbdb1449-db4d-431e-a85c-9d9451d746a0"
      },
      "source": [
        "birch = Birch(n_clusters=2)\n",
        "clustered_data = birch.fit_predict(data)\n",
        "print(adjusted_rand_score(df2[\"is_canceled\"], clustered_data))\n",
        "print(adjusted_mutual_info_score(df2[\"is_canceled\"], clustered_data))\n",
        "print(homogeneity_completeness_v_measure(df2[\"is_canceled\"], clustered_data))"
      ],
      "execution_count": 21,
      "outputs": [
        {
          "output_type": "stream",
          "text": [
            "-1.173260477891877e-05\n",
            "-6.218591663045837e-06\n",
            "(9.887642271616516e-09, 9.442823200980936e-09, 9.66011480455824e-09)\n"
          ],
          "name": "stdout"
        }
      ]
    },
    {
      "cell_type": "markdown",
      "metadata": {
        "id": "d3cc7qmsNvlQ",
        "colab_type": "text"
      },
      "source": [
        "В итоге оба алгоритма не справились с задачей кластеризации предложенного набора данных на два кластера по признаку 'is_canceled', т.к. их метрики чрезвычайно близки к нулевому значению, указывающему на случайное разбиение экземпляров данных на кластеры."
      ]
    }
  ]
}